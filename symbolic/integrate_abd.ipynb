{
 "cells": [
  {
   "cell_type": "code",
   "execution_count": null,
   "metadata": {},
   "outputs": [],
   "source": [
    "import sympy as sp\n",
    "\n",
    "x0, y0 = sp.symbols(\"x_0 y_0\", real=True)\n",
    "x1, y1 = sp.symbols('x_1 y_1', real=True)\n",
    "x2, y2 = sp.symbols('x_2 y_2', real=True)\n",
    "A = sp.symbols('A', real=True)\n",
    "\n",
    "x = sp.Matrix([x0, y0])\n",
    "\n",
    "J = sp.Matrix(\n",
    "    [\n",
    "        [1, 0, x0, y0, 0, 0],\n",
    "        [0, 1, 0, 0, x0, y0],\n",
    "    ]\n",
    ")\n",
    "\n",
    "JtJ = J.transpose() @ J\n",
    "\n",
    "JtJ\n",
    "\n"
   ]
  },
  {
   "cell_type": "code",
   "execution_count": null,
   "metadata": {},
   "outputs": [],
   "source": [
    "J"
   ]
  },
  {
   "cell_type": "markdown",
   "metadata": {},
   "source": [
    "$f$ Linear:\n",
    "$$\n",
    "I=\\dfrac{A}{3}(f(p_1+p_2+p_3))\n",
    "$$\n",
    "\n",
    "$f$ Quadratic: \n",
    "assume a point is at origin\n",
    "\n",
    "$$\n",
    "I=|\\dfrac{A}{12}(f(p_1)+f(p_2)+f(p_1+p_2))|\n",
    "$$"
   ]
  },
  {
   "cell_type": "markdown",
   "metadata": {},
   "source": [
    "1. compute normal\n",
    "2. determine sign\n",
    "3. compute integral and add."
   ]
  },
  {
   "cell_type": "code",
   "execution_count": null,
   "metadata": {},
   "outputs": [],
   "source": [
    "# buggy``\n",
    "def replace_entry(entry):\n",
    "    if entry.is_constant():\n",
    "        return entry * A\n",
    "    \n",
    "    if entry.is_polynomial(x0, y0):\n",
    "        degree = sp.degree(entry, gen=(x0, y0))\n",
    "        if degree == 1:\n",
    "            values = [entry.subs({x0: x1, y0: y1}), entry.subs({x0: x2, y0: y2}), entry.subs({x0: 0, y0: 0})]\n",
    "            return sum(values) / 3\n",
    "        elif degree == 2:\n",
    "            values = [entry.subs({x0: x1, y0: y1}), entry.subs({x0: x2, y0: y2}), entry.subs({x0: x1+x2, y0: y1+y2})]\n",
    "            return sum(values) / 12\n",
    "        else:\n",
    "            print(entry)\n",
    "            raise ValueError(\"Entry is not a constant, linear, or quadratic expression in x0, y0\")\n",
    "    else:\n",
    "        raise ValueError(\"Entry is not a polynomial in x0, y0\")\n",
    "\n",
    "# 遍历矩阵并替换项\n",
    "new_matrix = JtJ.applyfunc(replace_entry)\n",
    "\n",
    "print(new_matrix)\n"
   ]
  },
  {
   "cell_type": "code",
   "execution_count": null,
   "metadata": {},
   "outputs": [],
   "source": []
  },
  {
   "cell_type": "markdown",
   "metadata": {},
   "source": [
    "## 3d case"
   ]
  },
  {
   "cell_type": "code",
   "execution_count": null,
   "metadata": {},
   "outputs": [],
   "source": [
    "import sympy as sp\n",
    "\n",
    "x, y, z = sp.symbols(\"x y z\", real=True)\n",
    "\n",
    "J = sp.Matrix(\n",
    "    [\n",
    "        [1, 0, 0, x, y, z, 0, 0, 0, 0, 0, 0],\n",
    "        [0, 1, 0, 0, 0, 0, x, y, z, 0, 0, 0],\n",
    "        [0, 0, 1, 0, 0, 0, 0, 0, 0, x, y, z],\n",
    "    ]\n",
    ")"
   ]
  },
  {
   "cell_type": "code",
   "execution_count": null,
   "metadata": {},
   "outputs": [],
   "source": [
    "M = J.transpose() @ J\n",
    "M\n"
   ]
  },
  {
   "cell_type": "code",
   "execution_count": null,
   "metadata": {},
   "outputs": [],
   "source": []
  },
  {
   "cell_type": "code",
   "execution_count": null,
   "metadata": {},
   "outputs": [],
   "source": []
  },
  {
   "cell_type": "code",
   "execution_count": null,
   "metadata": {},
   "outputs": [],
   "source": []
  },
  {
   "cell_type": "code",
   "execution_count": null,
   "metadata": {},
   "outputs": [],
   "source": [
    "import sympy as sp\n",
    "\n",
    "# 创建符号\n",
    "a11, a12, a13 = sp.symbols('a11 a12 a13', real=True)\n",
    "a21, a22, a23 = sp.symbols('a21 a22 a23', real=True)\n",
    "a31, a32, a33 = sp.symbols('a31 a32 a33', real=True)\n",
    "\n",
    "# 创建3x3符号矩阵A\n",
    "A = sp.Matrix([[a11, a12, a13],\n",
    "               [a21, a22, a23],\n",
    "               [a31, a32, a33]])\n",
    "\n",
    "orth = (A.T @ A - sp.eye(3)).norm(ord='fro')\n",
    "\n",
    "# 对[a11, a12, ..., a33]求导\n",
    "derivatives = sp.Matrix([0, 0, 0] + [sp.diff(orth, a) for a in [a11, a12, a13, a21, a22, a23, a31, a32, a33]])\n",
    "\n",
    "derivatives"
   ]
  },
  {
   "cell_type": "code",
   "execution_count": null,
   "metadata": {},
   "outputs": [],
   "source": [
    "# 创建一个9x9的零矩阵来存储Hessian矩阵\n",
    "hessian_matrix = sp.zeros(9, 9)\n",
    "\n",
    "# 对每个梯度再求一次导数，得到Hessian矩阵\n",
    "for i, a_i in enumerate([a11, a12, a13, a21, a22, a23, a31, a32, a33]):\n",
    "    for j, a_j in enumerate([a11, a12, a13, a21, a22, a23, a31, a32, a33]):\n",
    "        hessian_matrix[i, j] = sp.diff(derivatives[i], a_j)\n",
    "        \n",
    "hessian_matrix"
   ]
  },
  {
   "cell_type": "code",
   "execution_count": null,
   "metadata": {},
   "outputs": [],
   "source": [
    "import sympy as sp\n",
    "\n",
    "# 定义符号\n",
    "nx, ny, nz = sp.symbols('nx ny nz', real=True)\n",
    "omega, t = sp.symbols('omega t', real=True)\n",
    "\n",
    "# 定义旋转角度\n",
    "theta = omega * t\n",
    "\n",
    "# 定义单位向量 n\n",
    "n = sp.Matrix([nx, ny, nz])\n",
    "\n",
    "# 构建旋转矩阵 R\n",
    "R = sp.Matrix([\n",
    "    [sp.cos(theta) + nx**2 * (1 - sp.cos(theta)), nx * ny * (1 - sp.cos(theta)) - nz * sp.sin(theta), nx * nz * (1 - sp.cos(theta)) + ny * sp.sin(theta)],\n",
    "    [ny * nx * (1 - sp.cos(theta)) + nz * sp.sin(theta), sp.cos(theta) + ny**2 * (1 - sp.cos(theta)), ny * nz * (1 - sp.cos(theta)) - nx * sp.sin(theta)],\n",
    "    [nz * nx * (1 - sp.cos(theta)) - ny * sp.sin(theta), nz * ny * (1 - sp.cos(theta)) + nx * sp.sin(theta), sp.cos(theta) + nz**2 * (1 - sp.cos(theta))]\n",
    "])\n",
    "\n",
    "\n",
    "dR_dt = R.diff(t)\n"
   ]
  },
  {
   "cell_type": "code",
   "execution_count": null,
   "metadata": {},
   "outputs": [],
   "source": [
    "R"
   ]
  },
  {
   "cell_type": "code",
   "execution_count": null,
   "metadata": {},
   "outputs": [],
   "source": [
    "dR_dt"
   ]
  },
  {
   "cell_type": "code",
   "execution_count": null,
   "metadata": {},
   "outputs": [],
   "source": [
    "# 创建符号\n",
    "a11, a12, a13 = sp.symbols('a11 a12 a13', real=True)\n",
    "a21, a22, a23 = sp.symbols('a21 a22 a23', real=True)\n",
    "a31, a32, a33 = sp.symbols('a31 a32 a33', real=True)\n",
    "\n",
    "# 创建3x3符号矩阵A\n",
    "A = sp.Matrix([[a11, a12, a13],\n",
    "               [a21, a22, a23],\n",
    "               [a31, a32, a33]])\n",
    "\n",
    "\n",
    "(R@A).diff(t) - (R.diff(t) @ A)\n",
    "# == 0"
   ]
  },
  {
   "cell_type": "code",
   "execution_count": null,
   "metadata": {},
   "outputs": [],
   "source": []
  },
  {
   "cell_type": "code",
   "execution_count": null,
   "metadata": {},
   "outputs": [],
   "source": []
  },
  {
   "cell_type": "code",
   "execution_count": null,
   "metadata": {},
   "outputs": [],
   "source": []
  },
  {
   "cell_type": "code",
   "execution_count": null,
   "metadata": {},
   "outputs": [],
   "source": []
  },
  {
   "cell_type": "code",
   "execution_count": null,
   "metadata": {},
   "outputs": [],
   "source": []
  },
  {
   "cell_type": "code",
   "execution_count": null,
   "metadata": {},
   "outputs": [],
   "source": []
  },
  {
   "cell_type": "code",
   "execution_count": null,
   "metadata": {},
   "outputs": [],
   "source": []
  },
  {
   "cell_type": "code",
   "execution_count": null,
   "metadata": {},
   "outputs": [],
   "source": []
  },
  {
   "cell_type": "code",
   "execution_count": null,
   "metadata": {},
   "outputs": [],
   "source": []
  },
  {
   "cell_type": "code",
   "execution_count": null,
   "metadata": {},
   "outputs": [],
   "source": []
  },
  {
   "cell_type": "code",
   "execution_count": null,
   "metadata": {},
   "outputs": [],
   "source": []
  },
  {
   "cell_type": "code",
   "execution_count": null,
   "metadata": {},
   "outputs": [],
   "source": []
  },
  {
   "cell_type": "code",
   "execution_count": null,
   "metadata": {},
   "outputs": [],
   "source": []
  },
  {
   "cell_type": "code",
   "execution_count": null,
   "metadata": {},
   "outputs": [],
   "source": []
  },
  {
   "cell_type": "code",
   "execution_count": null,
   "metadata": {},
   "outputs": [],
   "source": []
  },
  {
   "cell_type": "code",
   "execution_count": null,
   "metadata": {},
   "outputs": [],
   "source": []
  },
  {
   "cell_type": "code",
   "execution_count": null,
   "metadata": {},
   "outputs": [],
   "source": []
  },
  {
   "cell_type": "code",
   "execution_count": null,
   "metadata": {},
   "outputs": [],
   "source": []
  },
  {
   "cell_type": "code",
   "execution_count": null,
   "metadata": {},
   "outputs": [],
   "source": []
  },
  {
   "cell_type": "code",
   "execution_count": null,
   "metadata": {},
   "outputs": [],
   "source": []
  },
  {
   "cell_type": "code",
   "execution_count": null,
   "metadata": {},
   "outputs": [],
   "source": []
  },
  {
   "cell_type": "code",
   "execution_count": null,
   "metadata": {},
   "outputs": [],
   "source": []
  },
  {
   "cell_type": "code",
   "execution_count": null,
   "metadata": {},
   "outputs": [],
   "source": []
  },
  {
   "cell_type": "code",
   "execution_count": null,
   "metadata": {},
   "outputs": [],
   "source": []
  },
  {
   "cell_type": "code",
   "execution_count": null,
   "metadata": {},
   "outputs": [],
   "source": []
  }
 ],
 "metadata": {
  "kernelspec": {
   "display_name": "playground",
   "language": "python",
   "name": "python3"
  },
  "language_info": {
   "codemirror_mode": {
    "name": "ipython",
    "version": 3
   },
   "file_extension": ".py",
   "mimetype": "text/x-python",
   "name": "python",
   "nbconvert_exporter": "python",
   "pygments_lexer": "ipython3",
   "version": "3.10.13"
  }
 },
 "nbformat": 4,
 "nbformat_minor": 2
}
