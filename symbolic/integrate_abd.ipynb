{
 "cells": [
  {
   "cell_type": "code",
   "execution_count": null,
   "metadata": {},
   "outputs": [],
   "source": [
    "import sympy as sp\n",
    "\n",
    "x0, y0 = sp.symbols(\"x_0 y_0\", real=True)\n",
    "x1, y1 = sp.symbols('x_1 y_1', real=True)\n",
    "x2, y2 = sp.symbols('x_2 y_2', real=True)\n",
    "A = sp.symbols('A', real=True)\n",
    "\n",
    "x = sp.Matrix([x0, y0])\n",
    "\n",
    "J = sp.Matrix(\n",
    "    [\n",
    "        [1, 0, x0, y0, 0, 0],\n",
    "        [0, 1, 0, 0, x0, y0],\n",
    "    ]\n",
    ")\n",
    "\n",
    "JtJ = J.transpose() @ J\n",
    "\n",
    "JtJ\n",
    "\n"
   ]
  },
  {
   "cell_type": "code",
   "execution_count": null,
   "metadata": {},
   "outputs": [],
   "source": [
    "J"
   ]
  },
  {
   "cell_type": "markdown",
   "metadata": {},
   "source": [
    "$f$ Linear:\n",
    "$$\n",
    "I=\\dfrac{A}{3}(f(p_1+p_2+p_3))\n",
    "$$\n",
    "\n",
    "$f$ Quadratic: \n",
    "assume a point is at origin\n",
    "\n",
    "$$\n",
    "I=|\\dfrac{A}{12}(f(p_1)+f(p_2)+f(p_1+p_2))|\n",
    "$$"
   ]
  },
  {
   "cell_type": "markdown",
   "metadata": {},
   "source": [
    "1. compute normal\n",
    "2. determine sign\n",
    "3. compute integral and add."
   ]
  },
  {
   "cell_type": "code",
   "execution_count": null,
   "metadata": {},
   "outputs": [],
   "source": [
    "# buggy``\n",
    "def replace_entry(entry):\n",
    "    if entry.is_constant():\n",
    "        return entry * A\n",
    "    \n",
    "    if entry.is_polynomial(x0, y0):\n",
    "        degree = sp.degree(entry, gen=(x0, y0))\n",
    "        if degree == 1:\n",
    "            values = [entry.subs({x0: x1, y0: y1}), entry.subs({x0: x2, y0: y2}), entry.subs({x0: 0, y0: 0})]\n",
    "            return sum(values) / 3\n",
    "        elif degree == 2:\n",
    "            values = [entry.subs({x0: x1, y0: y1}), entry.subs({x0: x2, y0: y2}), entry.subs({x0: x1+x2, y0: y1+y2})]\n",
    "            return sum(values) / 12\n",
    "        else:\n",
    "            print(entry)\n",
    "            raise ValueError(\"Entry is not a constant, linear, or quadratic expression in x0, y0\")\n",
    "    else:\n",
    "        raise ValueError(\"Entry is not a polynomial in x0, y0\")\n",
    "\n",
    "# 遍历矩阵并替换项\n",
    "new_matrix = JtJ.applyfunc(replace_entry)\n",
    "\n",
    "print(new_matrix)\n"
   ]
  },
  {
   "cell_type": "code",
   "execution_count": null,
   "metadata": {},
   "outputs": [],
   "source": []
  },
  {
   "cell_type": "markdown",
   "metadata": {},
   "source": [
    "## 3d case"
   ]
  },
  {
   "cell_type": "code",
   "execution_count": 9,
   "metadata": {},
   "outputs": [],
   "source": [
    "import sympy as sp\n",
    "\n",
    "x, y, z = sp.symbols(\"x y z\", real=True)\n",
    "\n",
    "J = sp.Matrix(\n",
    "    [\n",
    "        [1, 0, 0, x, y, z, 0, 0, 0, 0, 0, 0],\n",
    "        [0, 1, 0, 0, 0, 0, x, y, z, 0, 0, 0],\n",
    "        [0, 0, 1, 0, 0, 0, 0, 0, 0, x, y, z],\n",
    "    ]\n",
    ")"
   ]
  },
  {
   "cell_type": "code",
   "execution_count": 14,
   "metadata": {},
   "outputs": [
    {
     "data": {
      "text/latex": [
       "$\\displaystyle \\left[\\begin{array}{cccccccccccc}1 & 0 & 0 & x & y & z & 0 & 0 & 0 & 0 & 0 & 0\\\\0 & 1 & 0 & 0 & 0 & 0 & x & y & z & 0 & 0 & 0\\\\0 & 0 & 1 & 0 & 0 & 0 & 0 & 0 & 0 & x & y & z\\\\x & 0 & 0 & x^{2} & x y & x z & 0 & 0 & 0 & 0 & 0 & 0\\\\y & 0 & 0 & x y & y^{2} & y z & 0 & 0 & 0 & 0 & 0 & 0\\\\z & 0 & 0 & x z & y z & z^{2} & 0 & 0 & 0 & 0 & 0 & 0\\\\0 & x & 0 & 0 & 0 & 0 & x^{2} & x y & x z & 0 & 0 & 0\\\\0 & y & 0 & 0 & 0 & 0 & x y & y^{2} & y z & 0 & 0 & 0\\\\0 & z & 0 & 0 & 0 & 0 & x z & y z & z^{2} & 0 & 0 & 0\\\\0 & 0 & x & 0 & 0 & 0 & 0 & 0 & 0 & x^{2} & x y & x z\\\\0 & 0 & y & 0 & 0 & 0 & 0 & 0 & 0 & x y & y^{2} & y z\\\\0 & 0 & z & 0 & 0 & 0 & 0 & 0 & 0 & x z & y z & z^{2}\\end{array}\\right]$"
      ],
      "text/plain": [
       "Matrix([\n",
       "[1, 0, 0,    x,    y,    z,    0,    0,    0,    0,    0,    0],\n",
       "[0, 1, 0,    0,    0,    0,    x,    y,    z,    0,    0,    0],\n",
       "[0, 0, 1,    0,    0,    0,    0,    0,    0,    x,    y,    z],\n",
       "[x, 0, 0, x**2,  x*y,  x*z,    0,    0,    0,    0,    0,    0],\n",
       "[y, 0, 0,  x*y, y**2,  y*z,    0,    0,    0,    0,    0,    0],\n",
       "[z, 0, 0,  x*z,  y*z, z**2,    0,    0,    0,    0,    0,    0],\n",
       "[0, x, 0,    0,    0,    0, x**2,  x*y,  x*z,    0,    0,    0],\n",
       "[0, y, 0,    0,    0,    0,  x*y, y**2,  y*z,    0,    0,    0],\n",
       "[0, z, 0,    0,    0,    0,  x*z,  y*z, z**2,    0,    0,    0],\n",
       "[0, 0, x,    0,    0,    0,    0,    0,    0, x**2,  x*y,  x*z],\n",
       "[0, 0, y,    0,    0,    0,    0,    0,    0,  x*y, y**2,  y*z],\n",
       "[0, 0, z,    0,    0,    0,    0,    0,    0,  x*z,  y*z, z**2]])"
      ]
     },
     "execution_count": 14,
     "metadata": {},
     "output_type": "execute_result"
    }
   ],
   "source": [
    "M = J.transpose() @ J\n",
    "M\n"
   ]
  },
  {
   "cell_type": "code",
   "execution_count": null,
   "metadata": {},
   "outputs": [],
   "source": []
  },
  {
   "cell_type": "code",
   "execution_count": null,
   "metadata": {},
   "outputs": [],
   "source": []
  },
  {
   "cell_type": "code",
   "execution_count": null,
   "metadata": {},
   "outputs": [],
   "source": []
  },
  {
   "cell_type": "code",
   "execution_count": 1,
   "metadata": {},
   "outputs": [
    {
     "data": {
      "text/latex": [
       "$\\displaystyle \\left[\\begin{matrix}0\\\\0\\\\0\\\\\\frac{2 a_{11} \\left(a_{11}^{2} + a_{21}^{2} + a_{31}^{2} - 1\\right) + 2 a_{12} \\left(a_{11} a_{12} + a_{21} a_{22} + a_{31} a_{32}\\right) + 2 a_{13} \\left(a_{11} a_{13} + a_{21} a_{23} + a_{31} a_{33}\\right)}{\\sqrt{2 \\left(a_{11} a_{12} + a_{21} a_{22} + a_{31} a_{32}\\right)^{2} + 2 \\left(a_{11} a_{13} + a_{21} a_{23} + a_{31} a_{33}\\right)^{2} + 2 \\left(a_{12} a_{13} + a_{22} a_{23} + a_{32} a_{33}\\right)^{2} + \\left(a_{11}^{2} + a_{21}^{2} + a_{31}^{2} - 1\\right)^{2} + \\left(a_{12}^{2} + a_{22}^{2} + a_{32}^{2} - 1\\right)^{2} + \\left(a_{13}^{2} + a_{23}^{2} + a_{33}^{2} - 1\\right)^{2}}}\\\\\\frac{2 a_{11} \\left(a_{11} a_{12} + a_{21} a_{22} + a_{31} a_{32}\\right) + 2 a_{12} \\left(a_{12}^{2} + a_{22}^{2} + a_{32}^{2} - 1\\right) + 2 a_{13} \\left(a_{12} a_{13} + a_{22} a_{23} + a_{32} a_{33}\\right)}{\\sqrt{2 \\left(a_{11} a_{12} + a_{21} a_{22} + a_{31} a_{32}\\right)^{2} + 2 \\left(a_{11} a_{13} + a_{21} a_{23} + a_{31} a_{33}\\right)^{2} + 2 \\left(a_{12} a_{13} + a_{22} a_{23} + a_{32} a_{33}\\right)^{2} + \\left(a_{11}^{2} + a_{21}^{2} + a_{31}^{2} - 1\\right)^{2} + \\left(a_{12}^{2} + a_{22}^{2} + a_{32}^{2} - 1\\right)^{2} + \\left(a_{13}^{2} + a_{23}^{2} + a_{33}^{2} - 1\\right)^{2}}}\\\\\\frac{2 a_{11} \\left(a_{11} a_{13} + a_{21} a_{23} + a_{31} a_{33}\\right) + 2 a_{12} \\left(a_{12} a_{13} + a_{22} a_{23} + a_{32} a_{33}\\right) + 2 a_{13} \\left(a_{13}^{2} + a_{23}^{2} + a_{33}^{2} - 1\\right)}{\\sqrt{2 \\left(a_{11} a_{12} + a_{21} a_{22} + a_{31} a_{32}\\right)^{2} + 2 \\left(a_{11} a_{13} + a_{21} a_{23} + a_{31} a_{33}\\right)^{2} + 2 \\left(a_{12} a_{13} + a_{22} a_{23} + a_{32} a_{33}\\right)^{2} + \\left(a_{11}^{2} + a_{21}^{2} + a_{31}^{2} - 1\\right)^{2} + \\left(a_{12}^{2} + a_{22}^{2} + a_{32}^{2} - 1\\right)^{2} + \\left(a_{13}^{2} + a_{23}^{2} + a_{33}^{2} - 1\\right)^{2}}}\\\\\\frac{2 a_{21} \\left(a_{11}^{2} + a_{21}^{2} + a_{31}^{2} - 1\\right) + 2 a_{22} \\left(a_{11} a_{12} + a_{21} a_{22} + a_{31} a_{32}\\right) + 2 a_{23} \\left(a_{11} a_{13} + a_{21} a_{23} + a_{31} a_{33}\\right)}{\\sqrt{2 \\left(a_{11} a_{12} + a_{21} a_{22} + a_{31} a_{32}\\right)^{2} + 2 \\left(a_{11} a_{13} + a_{21} a_{23} + a_{31} a_{33}\\right)^{2} + 2 \\left(a_{12} a_{13} + a_{22} a_{23} + a_{32} a_{33}\\right)^{2} + \\left(a_{11}^{2} + a_{21}^{2} + a_{31}^{2} - 1\\right)^{2} + \\left(a_{12}^{2} + a_{22}^{2} + a_{32}^{2} - 1\\right)^{2} + \\left(a_{13}^{2} + a_{23}^{2} + a_{33}^{2} - 1\\right)^{2}}}\\\\\\frac{2 a_{21} \\left(a_{11} a_{12} + a_{21} a_{22} + a_{31} a_{32}\\right) + 2 a_{22} \\left(a_{12}^{2} + a_{22}^{2} + a_{32}^{2} - 1\\right) + 2 a_{23} \\left(a_{12} a_{13} + a_{22} a_{23} + a_{32} a_{33}\\right)}{\\sqrt{2 \\left(a_{11} a_{12} + a_{21} a_{22} + a_{31} a_{32}\\right)^{2} + 2 \\left(a_{11} a_{13} + a_{21} a_{23} + a_{31} a_{33}\\right)^{2} + 2 \\left(a_{12} a_{13} + a_{22} a_{23} + a_{32} a_{33}\\right)^{2} + \\left(a_{11}^{2} + a_{21}^{2} + a_{31}^{2} - 1\\right)^{2} + \\left(a_{12}^{2} + a_{22}^{2} + a_{32}^{2} - 1\\right)^{2} + \\left(a_{13}^{2} + a_{23}^{2} + a_{33}^{2} - 1\\right)^{2}}}\\\\\\frac{2 a_{21} \\left(a_{11} a_{13} + a_{21} a_{23} + a_{31} a_{33}\\right) + 2 a_{22} \\left(a_{12} a_{13} + a_{22} a_{23} + a_{32} a_{33}\\right) + 2 a_{23} \\left(a_{13}^{2} + a_{23}^{2} + a_{33}^{2} - 1\\right)}{\\sqrt{2 \\left(a_{11} a_{12} + a_{21} a_{22} + a_{31} a_{32}\\right)^{2} + 2 \\left(a_{11} a_{13} + a_{21} a_{23} + a_{31} a_{33}\\right)^{2} + 2 \\left(a_{12} a_{13} + a_{22} a_{23} + a_{32} a_{33}\\right)^{2} + \\left(a_{11}^{2} + a_{21}^{2} + a_{31}^{2} - 1\\right)^{2} + \\left(a_{12}^{2} + a_{22}^{2} + a_{32}^{2} - 1\\right)^{2} + \\left(a_{13}^{2} + a_{23}^{2} + a_{33}^{2} - 1\\right)^{2}}}\\\\\\frac{2 a_{31} \\left(a_{11}^{2} + a_{21}^{2} + a_{31}^{2} - 1\\right) + 2 a_{32} \\left(a_{11} a_{12} + a_{21} a_{22} + a_{31} a_{32}\\right) + 2 a_{33} \\left(a_{11} a_{13} + a_{21} a_{23} + a_{31} a_{33}\\right)}{\\sqrt{2 \\left(a_{11} a_{12} + a_{21} a_{22} + a_{31} a_{32}\\right)^{2} + 2 \\left(a_{11} a_{13} + a_{21} a_{23} + a_{31} a_{33}\\right)^{2} + 2 \\left(a_{12} a_{13} + a_{22} a_{23} + a_{32} a_{33}\\right)^{2} + \\left(a_{11}^{2} + a_{21}^{2} + a_{31}^{2} - 1\\right)^{2} + \\left(a_{12}^{2} + a_{22}^{2} + a_{32}^{2} - 1\\right)^{2} + \\left(a_{13}^{2} + a_{23}^{2} + a_{33}^{2} - 1\\right)^{2}}}\\\\\\frac{2 a_{31} \\left(a_{11} a_{12} + a_{21} a_{22} + a_{31} a_{32}\\right) + 2 a_{32} \\left(a_{12}^{2} + a_{22}^{2} + a_{32}^{2} - 1\\right) + 2 a_{33} \\left(a_{12} a_{13} + a_{22} a_{23} + a_{32} a_{33}\\right)}{\\sqrt{2 \\left(a_{11} a_{12} + a_{21} a_{22} + a_{31} a_{32}\\right)^{2} + 2 \\left(a_{11} a_{13} + a_{21} a_{23} + a_{31} a_{33}\\right)^{2} + 2 \\left(a_{12} a_{13} + a_{22} a_{23} + a_{32} a_{33}\\right)^{2} + \\left(a_{11}^{2} + a_{21}^{2} + a_{31}^{2} - 1\\right)^{2} + \\left(a_{12}^{2} + a_{22}^{2} + a_{32}^{2} - 1\\right)^{2} + \\left(a_{13}^{2} + a_{23}^{2} + a_{33}^{2} - 1\\right)^{2}}}\\\\\\frac{2 a_{31} \\left(a_{11} a_{13} + a_{21} a_{23} + a_{31} a_{33}\\right) + 2 a_{32} \\left(a_{12} a_{13} + a_{22} a_{23} + a_{32} a_{33}\\right) + 2 a_{33} \\left(a_{13}^{2} + a_{23}^{2} + a_{33}^{2} - 1\\right)}{\\sqrt{2 \\left(a_{11} a_{12} + a_{21} a_{22} + a_{31} a_{32}\\right)^{2} + 2 \\left(a_{11} a_{13} + a_{21} a_{23} + a_{31} a_{33}\\right)^{2} + 2 \\left(a_{12} a_{13} + a_{22} a_{23} + a_{32} a_{33}\\right)^{2} + \\left(a_{11}^{2} + a_{21}^{2} + a_{31}^{2} - 1\\right)^{2} + \\left(a_{12}^{2} + a_{22}^{2} + a_{32}^{2} - 1\\right)^{2} + \\left(a_{13}^{2} + a_{23}^{2} + a_{33}^{2} - 1\\right)^{2}}}\\end{matrix}\\right]$"
      ],
      "text/plain": [
       "Matrix([\n",
       "[                                                                                                                                                                                                                                                                                                                                                0],\n",
       "[                                                                                                                                                                                                                                                                                                                                                0],\n",
       "[                                                                                                                                                                                                                                                                                                                                                0],\n",
       "[(2*a11*(a11**2 + a21**2 + a31**2 - 1) + 2*a12*(a11*a12 + a21*a22 + a31*a32) + 2*a13*(a11*a13 + a21*a23 + a31*a33))/sqrt(2*(a11*a12 + a21*a22 + a31*a32)**2 + 2*(a11*a13 + a21*a23 + a31*a33)**2 + 2*(a12*a13 + a22*a23 + a32*a33)**2 + (a11**2 + a21**2 + a31**2 - 1)**2 + (a12**2 + a22**2 + a32**2 - 1)**2 + (a13**2 + a23**2 + a33**2 - 1)**2)],\n",
       "[(2*a11*(a11*a12 + a21*a22 + a31*a32) + 2*a12*(a12**2 + a22**2 + a32**2 - 1) + 2*a13*(a12*a13 + a22*a23 + a32*a33))/sqrt(2*(a11*a12 + a21*a22 + a31*a32)**2 + 2*(a11*a13 + a21*a23 + a31*a33)**2 + 2*(a12*a13 + a22*a23 + a32*a33)**2 + (a11**2 + a21**2 + a31**2 - 1)**2 + (a12**2 + a22**2 + a32**2 - 1)**2 + (a13**2 + a23**2 + a33**2 - 1)**2)],\n",
       "[(2*a11*(a11*a13 + a21*a23 + a31*a33) + 2*a12*(a12*a13 + a22*a23 + a32*a33) + 2*a13*(a13**2 + a23**2 + a33**2 - 1))/sqrt(2*(a11*a12 + a21*a22 + a31*a32)**2 + 2*(a11*a13 + a21*a23 + a31*a33)**2 + 2*(a12*a13 + a22*a23 + a32*a33)**2 + (a11**2 + a21**2 + a31**2 - 1)**2 + (a12**2 + a22**2 + a32**2 - 1)**2 + (a13**2 + a23**2 + a33**2 - 1)**2)],\n",
       "[(2*a21*(a11**2 + a21**2 + a31**2 - 1) + 2*a22*(a11*a12 + a21*a22 + a31*a32) + 2*a23*(a11*a13 + a21*a23 + a31*a33))/sqrt(2*(a11*a12 + a21*a22 + a31*a32)**2 + 2*(a11*a13 + a21*a23 + a31*a33)**2 + 2*(a12*a13 + a22*a23 + a32*a33)**2 + (a11**2 + a21**2 + a31**2 - 1)**2 + (a12**2 + a22**2 + a32**2 - 1)**2 + (a13**2 + a23**2 + a33**2 - 1)**2)],\n",
       "[(2*a21*(a11*a12 + a21*a22 + a31*a32) + 2*a22*(a12**2 + a22**2 + a32**2 - 1) + 2*a23*(a12*a13 + a22*a23 + a32*a33))/sqrt(2*(a11*a12 + a21*a22 + a31*a32)**2 + 2*(a11*a13 + a21*a23 + a31*a33)**2 + 2*(a12*a13 + a22*a23 + a32*a33)**2 + (a11**2 + a21**2 + a31**2 - 1)**2 + (a12**2 + a22**2 + a32**2 - 1)**2 + (a13**2 + a23**2 + a33**2 - 1)**2)],\n",
       "[(2*a21*(a11*a13 + a21*a23 + a31*a33) + 2*a22*(a12*a13 + a22*a23 + a32*a33) + 2*a23*(a13**2 + a23**2 + a33**2 - 1))/sqrt(2*(a11*a12 + a21*a22 + a31*a32)**2 + 2*(a11*a13 + a21*a23 + a31*a33)**2 + 2*(a12*a13 + a22*a23 + a32*a33)**2 + (a11**2 + a21**2 + a31**2 - 1)**2 + (a12**2 + a22**2 + a32**2 - 1)**2 + (a13**2 + a23**2 + a33**2 - 1)**2)],\n",
       "[(2*a31*(a11**2 + a21**2 + a31**2 - 1) + 2*a32*(a11*a12 + a21*a22 + a31*a32) + 2*a33*(a11*a13 + a21*a23 + a31*a33))/sqrt(2*(a11*a12 + a21*a22 + a31*a32)**2 + 2*(a11*a13 + a21*a23 + a31*a33)**2 + 2*(a12*a13 + a22*a23 + a32*a33)**2 + (a11**2 + a21**2 + a31**2 - 1)**2 + (a12**2 + a22**2 + a32**2 - 1)**2 + (a13**2 + a23**2 + a33**2 - 1)**2)],\n",
       "[(2*a31*(a11*a12 + a21*a22 + a31*a32) + 2*a32*(a12**2 + a22**2 + a32**2 - 1) + 2*a33*(a12*a13 + a22*a23 + a32*a33))/sqrt(2*(a11*a12 + a21*a22 + a31*a32)**2 + 2*(a11*a13 + a21*a23 + a31*a33)**2 + 2*(a12*a13 + a22*a23 + a32*a33)**2 + (a11**2 + a21**2 + a31**2 - 1)**2 + (a12**2 + a22**2 + a32**2 - 1)**2 + (a13**2 + a23**2 + a33**2 - 1)**2)],\n",
       "[(2*a31*(a11*a13 + a21*a23 + a31*a33) + 2*a32*(a12*a13 + a22*a23 + a32*a33) + 2*a33*(a13**2 + a23**2 + a33**2 - 1))/sqrt(2*(a11*a12 + a21*a22 + a31*a32)**2 + 2*(a11*a13 + a21*a23 + a31*a33)**2 + 2*(a12*a13 + a22*a23 + a32*a33)**2 + (a11**2 + a21**2 + a31**2 - 1)**2 + (a12**2 + a22**2 + a32**2 - 1)**2 + (a13**2 + a23**2 + a33**2 - 1)**2)]])"
      ]
     },
     "execution_count": 1,
     "metadata": {},
     "output_type": "execute_result"
    }
   ],
   "source": [
    "import sympy as sp\n",
    "\n",
    "# 创建符号\n",
    "a11, a12, a13 = sp.symbols('a11 a12 a13', real=True)\n",
    "a21, a22, a23 = sp.symbols('a21 a22 a23', real=True)\n",
    "a31, a32, a33 = sp.symbols('a31 a32 a33', real=True)\n",
    "\n",
    "# 创建3x3符号矩阵A\n",
    "A = sp.Matrix([[a11, a12, a13],\n",
    "               [a21, a22, a23],\n",
    "               [a31, a32, a33]])\n",
    "\n",
    "orth = (A.T @ A - sp.eye(3)).norm(ord='fro')\n",
    "\n",
    "# 对[a11, a12, ..., a33]求导\n",
    "derivatives = sp.Matrix([0, 0, 0] + [sp.diff(orth, a) for a in [a11, a12, a13, a21, a22, a23, a31, a32, a33]])\n",
    "\n",
    "derivatives"
   ]
  },
  {
   "cell_type": "code",
   "execution_count": null,
   "metadata": {},
   "outputs": [],
   "source": [
    "# 创建一个9x9的零矩阵来存储Hessian矩阵\n",
    "hessian_matrix = sp.zeros(9, 9)\n",
    "\n",
    "# 对每个梯度再求一次导数，得到Hessian矩阵\n",
    "for i, a_i in enumerate([a11, a12, a13, a21, a22, a23, a31, a32, a33]):\n",
    "    for j, a_j in enumerate([a11, a12, a13, a21, a22, a23, a31, a32, a33]):\n",
    "        hessian_matrix[i, j] = sp.diff(derivatives[i], a_j)\n",
    "        \n",
    "hessian_matrix"
   ]
  },
  {
   "cell_type": "code",
   "execution_count": 2,
   "metadata": {},
   "outputs": [],
   "source": [
    "import sympy as sp\n",
    "\n",
    "# 定义符号\n",
    "nx, ny, nz = sp.symbols('nx ny nz', real=True)\n",
    "omega, t = sp.symbols('omega t', real=True)\n",
    "\n",
    "# 定义旋转角度\n",
    "theta = omega * t\n",
    "\n",
    "# 定义单位向量 n\n",
    "n = sp.Matrix([nx, ny, nz])\n",
    "\n",
    "# 构建旋转矩阵 R\n",
    "R = sp.Matrix([\n",
    "    [sp.cos(theta) + nx**2 * (1 - sp.cos(theta)), nx * ny * (1 - sp.cos(theta)) - nz * sp.sin(theta), nx * nz * (1 - sp.cos(theta)) + ny * sp.sin(theta)],\n",
    "    [ny * nx * (1 - sp.cos(theta)) + nz * sp.sin(theta), sp.cos(theta) + ny**2 * (1 - sp.cos(theta)), ny * nz * (1 - sp.cos(theta)) - nx * sp.sin(theta)],\n",
    "    [nz * nx * (1 - sp.cos(theta)) - ny * sp.sin(theta), nz * ny * (1 - sp.cos(theta)) + nx * sp.sin(theta), sp.cos(theta) + nz**2 * (1 - sp.cos(theta))]\n",
    "])\n",
    "\n",
    "\n",
    "dR_dt = R.diff(t)\n"
   ]
  },
  {
   "cell_type": "code",
   "execution_count": 3,
   "metadata": {},
   "outputs": [
    {
     "data": {
      "text/latex": [
       "$\\displaystyle \\left[\\begin{matrix}nx^{2} \\left(1 - \\cos{\\left(\\omega t \\right)}\\right) + \\cos{\\left(\\omega t \\right)} & nx ny \\left(1 - \\cos{\\left(\\omega t \\right)}\\right) - nz \\sin{\\left(\\omega t \\right)} & nx nz \\left(1 - \\cos{\\left(\\omega t \\right)}\\right) + ny \\sin{\\left(\\omega t \\right)}\\\\nx ny \\left(1 - \\cos{\\left(\\omega t \\right)}\\right) + nz \\sin{\\left(\\omega t \\right)} & ny^{2} \\left(1 - \\cos{\\left(\\omega t \\right)}\\right) + \\cos{\\left(\\omega t \\right)} & - nx \\sin{\\left(\\omega t \\right)} + ny nz \\left(1 - \\cos{\\left(\\omega t \\right)}\\right)\\\\nx nz \\left(1 - \\cos{\\left(\\omega t \\right)}\\right) - ny \\sin{\\left(\\omega t \\right)} & nx \\sin{\\left(\\omega t \\right)} + ny nz \\left(1 - \\cos{\\left(\\omega t \\right)}\\right) & nz^{2} \\left(1 - \\cos{\\left(\\omega t \\right)}\\right) + \\cos{\\left(\\omega t \\right)}\\end{matrix}\\right]$"
      ],
      "text/plain": [
       "Matrix([\n",
       "[   nx**2*(1 - cos(omega*t)) + cos(omega*t), nx*ny*(1 - cos(omega*t)) - nz*sin(omega*t),  nx*nz*(1 - cos(omega*t)) + ny*sin(omega*t)],\n",
       "[nx*ny*(1 - cos(omega*t)) + nz*sin(omega*t),    ny**2*(1 - cos(omega*t)) + cos(omega*t), -nx*sin(omega*t) + ny*nz*(1 - cos(omega*t))],\n",
       "[nx*nz*(1 - cos(omega*t)) - ny*sin(omega*t), nx*sin(omega*t) + ny*nz*(1 - cos(omega*t)),     nz**2*(1 - cos(omega*t)) + cos(omega*t)]])"
      ]
     },
     "execution_count": 3,
     "metadata": {},
     "output_type": "execute_result"
    }
   ],
   "source": [
    "R"
   ]
  },
  {
   "cell_type": "code",
   "execution_count": 4,
   "metadata": {},
   "outputs": [
    {
     "data": {
      "text/latex": [
       "$\\displaystyle \\left[\\begin{matrix}nx^{2} \\omega \\sin{\\left(\\omega t \\right)} - \\omega \\sin{\\left(\\omega t \\right)} & nx ny \\omega \\sin{\\left(\\omega t \\right)} - nz \\omega \\cos{\\left(\\omega t \\right)} & nx nz \\omega \\sin{\\left(\\omega t \\right)} + ny \\omega \\cos{\\left(\\omega t \\right)}\\\\nx ny \\omega \\sin{\\left(\\omega t \\right)} + nz \\omega \\cos{\\left(\\omega t \\right)} & ny^{2} \\omega \\sin{\\left(\\omega t \\right)} - \\omega \\sin{\\left(\\omega t \\right)} & - nx \\omega \\cos{\\left(\\omega t \\right)} + ny nz \\omega \\sin{\\left(\\omega t \\right)}\\\\nx nz \\omega \\sin{\\left(\\omega t \\right)} - ny \\omega \\cos{\\left(\\omega t \\right)} & nx \\omega \\cos{\\left(\\omega t \\right)} + ny nz \\omega \\sin{\\left(\\omega t \\right)} & nz^{2} \\omega \\sin{\\left(\\omega t \\right)} - \\omega \\sin{\\left(\\omega t \\right)}\\end{matrix}\\right]$"
      ],
      "text/plain": [
       "Matrix([\n",
       "[   nx**2*omega*sin(omega*t) - omega*sin(omega*t), nx*ny*omega*sin(omega*t) - nz*omega*cos(omega*t),  nx*nz*omega*sin(omega*t) + ny*omega*cos(omega*t)],\n",
       "[nx*ny*omega*sin(omega*t) + nz*omega*cos(omega*t),    ny**2*omega*sin(omega*t) - omega*sin(omega*t), -nx*omega*cos(omega*t) + ny*nz*omega*sin(omega*t)],\n",
       "[nx*nz*omega*sin(omega*t) - ny*omega*cos(omega*t), nx*omega*cos(omega*t) + ny*nz*omega*sin(omega*t),     nz**2*omega*sin(omega*t) - omega*sin(omega*t)]])"
      ]
     },
     "execution_count": 4,
     "metadata": {},
     "output_type": "execute_result"
    }
   ],
   "source": [
    "dR_dt"
   ]
  },
  {
   "cell_type": "code",
   "execution_count": 5,
   "metadata": {},
   "outputs": [
    {
     "data": {
      "text/latex": [
       "$\\displaystyle \\left[\\begin{matrix}0 & 0 & 0\\\\0 & 0 & 0\\\\0 & 0 & 0\\end{matrix}\\right]$"
      ],
      "text/plain": [
       "Matrix([\n",
       "[0, 0, 0],\n",
       "[0, 0, 0],\n",
       "[0, 0, 0]])"
      ]
     },
     "execution_count": 5,
     "metadata": {},
     "output_type": "execute_result"
    }
   ],
   "source": [
    "# 创建符号\n",
    "a11, a12, a13 = sp.symbols('a11 a12 a13', real=True)\n",
    "a21, a22, a23 = sp.symbols('a21 a22 a23', real=True)\n",
    "a31, a32, a33 = sp.symbols('a31 a32 a33', real=True)\n",
    "\n",
    "# 创建3x3符号矩阵A\n",
    "A = sp.Matrix([[a11, a12, a13],\n",
    "               [a21, a22, a23],\n",
    "               [a31, a32, a33]])\n",
    "\n",
    "\n",
    "(R@A).diff(t) - (R.diff(t) @ A)\n",
    "# == 0"
   ]
  },
  {
   "cell_type": "code",
   "execution_count": null,
   "metadata": {},
   "outputs": [],
   "source": []
  },
  {
   "cell_type": "code",
   "execution_count": null,
   "metadata": {},
   "outputs": [],
   "source": []
  },
  {
   "cell_type": "code",
   "execution_count": null,
   "metadata": {},
   "outputs": [],
   "source": []
  },
  {
   "cell_type": "code",
   "execution_count": null,
   "metadata": {},
   "outputs": [],
   "source": []
  },
  {
   "cell_type": "code",
   "execution_count": null,
   "metadata": {},
   "outputs": [],
   "source": []
  },
  {
   "cell_type": "code",
   "execution_count": null,
   "metadata": {},
   "outputs": [],
   "source": []
  },
  {
   "cell_type": "code",
   "execution_count": null,
   "metadata": {},
   "outputs": [],
   "source": []
  },
  {
   "cell_type": "code",
   "execution_count": null,
   "metadata": {},
   "outputs": [],
   "source": []
  },
  {
   "cell_type": "code",
   "execution_count": null,
   "metadata": {},
   "outputs": [],
   "source": []
  },
  {
   "cell_type": "code",
   "execution_count": null,
   "metadata": {},
   "outputs": [],
   "source": []
  },
  {
   "cell_type": "code",
   "execution_count": null,
   "metadata": {},
   "outputs": [],
   "source": []
  },
  {
   "cell_type": "code",
   "execution_count": null,
   "metadata": {},
   "outputs": [],
   "source": []
  },
  {
   "cell_type": "code",
   "execution_count": null,
   "metadata": {},
   "outputs": [],
   "source": []
  },
  {
   "cell_type": "code",
   "execution_count": null,
   "metadata": {},
   "outputs": [],
   "source": []
  },
  {
   "cell_type": "code",
   "execution_count": null,
   "metadata": {},
   "outputs": [],
   "source": []
  },
  {
   "cell_type": "code",
   "execution_count": null,
   "metadata": {},
   "outputs": [],
   "source": []
  },
  {
   "cell_type": "code",
   "execution_count": null,
   "metadata": {},
   "outputs": [],
   "source": []
  },
  {
   "cell_type": "code",
   "execution_count": null,
   "metadata": {},
   "outputs": [],
   "source": []
  },
  {
   "cell_type": "code",
   "execution_count": null,
   "metadata": {},
   "outputs": [],
   "source": []
  },
  {
   "cell_type": "code",
   "execution_count": null,
   "metadata": {},
   "outputs": [],
   "source": []
  },
  {
   "cell_type": "code",
   "execution_count": null,
   "metadata": {},
   "outputs": [],
   "source": []
  },
  {
   "cell_type": "code",
   "execution_count": null,
   "metadata": {},
   "outputs": [],
   "source": []
  },
  {
   "cell_type": "code",
   "execution_count": null,
   "metadata": {},
   "outputs": [],
   "source": []
  },
  {
   "cell_type": "code",
   "execution_count": null,
   "metadata": {},
   "outputs": [],
   "source": []
  },
  {
   "cell_type": "code",
   "execution_count": null,
   "metadata": {},
   "outputs": [],
   "source": []
  }
 ],
 "metadata": {
  "kernelspec": {
   "display_name": "playground",
   "language": "python",
   "name": "python3"
  },
  "language_info": {
   "codemirror_mode": {
    "name": "ipython",
    "version": 3
   },
   "file_extension": ".py",
   "mimetype": "text/x-python",
   "name": "python",
   "nbconvert_exporter": "python",
   "pygments_lexer": "ipython3",
   "version": "3.10.13"
  }
 },
 "nbformat": 4,
 "nbformat_minor": 2
}
