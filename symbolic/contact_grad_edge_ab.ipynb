{
 "cells": [
  {
   "cell_type": "markdown",
   "metadata": {},
   "source": [
    "## Contact: Edge"
   ]
  },
  {
   "cell_type": "code",
   "execution_count": null,
   "metadata": {},
   "outputs": [],
   "source": [
    "import sympy as sp\n",
    "\n",
    "from sympy.utilities.codegen import codegen\n",
    "def gen_rust(fn_name, expr):\n",
    "    return codegen(\n",
    "        (fn_name, expr),\n",
    "        language=\"Rust\",\n",
    "        prefix=\"rust_code\"\n",
    "    )[0][1]\n",
    "\n",
    "# initial position\n",
    "u0x, u0y, v0x, v0y = sp.symbols('u0x u0y v0x v0y', real=True)\n",
    "e0 = sp.Matrix([u0x,u0y])\n",
    "e1 = sp.Matrix([v0x,v0y])\n",
    "\n",
    "# contact point\n",
    "px, py = sp.symbols('px py', real=True)\n",
    "\n",
    "\n",
    "a11, a12 = sp.symbols('a11 a12', real=True)\n",
    "a21, a22 = sp.symbols('a21 a22', real=True)\n",
    "tx, ty = sp.symbols('tx ty', real=True)\n",
    "A = sp.Matrix(\n",
    "    [\n",
    "        [a11, a12],\n",
    "        [a21, a22],\n",
    "    ]\n",
    ")\n",
    "t = sp.Matrix([tx, ty])\n",
    "\n",
    "# 定义向量\n",
    "p = sp.Matrix([px, py])\n",
    "u = A @ e0 + t\n",
    "v = A @ e1 + t\n",
    "\n",
    "q = sp.Matrix([tx, ty, a11, a12, a21, a22])"
   ]
  },
  {
   "cell_type": "markdown",
   "metadata": {},
   "source": [
    "case 1"
   ]
  },
  {
   "cell_type": "code",
   "execution_count": null,
   "metadata": {},
   "outputs": [],
   "source": [
    "dist1 = (u - p).norm()\n",
    "\n",
    "grad1 = dist1.diff(q)\n",
    "grad1"
   ]
  },
  {
   "cell_type": "code",
   "execution_count": null,
   "metadata": {},
   "outputs": [],
   "source": [
    "for i in range(6):\n",
    "    print(gen_rust(f\"grad_edge_case1_{i}\", grad1[i]))"
   ]
  },
  {
   "cell_type": "code",
   "execution_count": null,
   "metadata": {},
   "outputs": [],
   "source": [
    "hess1 = sp.Matrix(\n",
    "    [\n",
    "        [dist1.diff(q[i]).diff(q[j]) for i in range(6)] for j in range(6)\n",
    "    ]\n",
    ")\n",
    "\n",
    "hess1"
   ]
  },
  {
   "cell_type": "code",
   "execution_count": null,
   "metadata": {},
   "outputs": [],
   "source": [
    "for i in range(6):\n",
    "    for j in range(6):\n",
    "        print(gen_rust(f\"hess_edge_case1_{i}_{j}\", hess1[i, j]))"
   ]
  },
  {
   "cell_type": "markdown",
   "metadata": {},
   "source": [
    "case 2"
   ]
  },
  {
   "cell_type": "code",
   "execution_count": null,
   "metadata": {},
   "outputs": [],
   "source": [
    "dist2 = (v - p).norm()\n",
    "\n",
    "grad2 = dist2.diff(q)\n",
    "grad2"
   ]
  },
  {
   "cell_type": "code",
   "execution_count": null,
   "metadata": {},
   "outputs": [],
   "source": [
    "for i in range(6):\n",
    "    print(gen_rust(f\"grad_edge_case2_{i}\", grad2[i]))"
   ]
  },
  {
   "cell_type": "code",
   "execution_count": null,
   "metadata": {},
   "outputs": [],
   "source": [
    "hess2 = sp.Matrix(\n",
    "    [\n",
    "        [dist2.diff(q[i]).diff(q[j]) for i in range(6)] for j in range(6)\n",
    "    ]\n",
    ")\n",
    "\n",
    "hess2"
   ]
  },
  {
   "cell_type": "code",
   "execution_count": null,
   "metadata": {},
   "outputs": [],
   "source": [
    "for i in range(6):\n",
    "    for j in range(6):\n",
    "        print(gen_rust(f\"hess_edge_case2_{i}_{j}\", hess2[i, j]))"
   ]
  },
  {
   "cell_type": "markdown",
   "metadata": {},
   "source": [
    "case 3"
   ]
  },
  {
   "cell_type": "code",
   "execution_count": null,
   "metadata": {},
   "outputs": [],
   "source": [
    "d = v - u\n",
    "n = sp.Matrix([-d[1], d[0]])\n",
    "\n",
    "# 计算点 x 到直线 uv 的距离\n",
    "dist3 = (n.dot(p - u)) / n.norm()\n",
    "\n",
    "grad3 = dist3.diff(q)\n",
    "grad3"
   ]
  },
  {
   "cell_type": "code",
   "execution_count": null,
   "metadata": {},
   "outputs": [],
   "source": [
    "for i in range(6):\n",
    "    print(gen_rust(f\"grad_edge_case3_{i}\", grad3[i]))"
   ]
  },
  {
   "cell_type": "code",
   "execution_count": null,
   "metadata": {},
   "outputs": [],
   "source": [
    "hess3 = sp.Matrix(\n",
    "    [\n",
    "        [dist3.diff(q[i]).diff(q[j]) for i in range(6)] for j in range(6)\n",
    "    ]\n",
    ")\n",
    "\n",
    "hess3"
   ]
  },
  {
   "cell_type": "code",
   "execution_count": null,
   "metadata": {},
   "outputs": [],
   "source": [
    "for i in range(6):\n",
    "    for j in range(6):\n",
    "        print(gen_rust(f\"hess_edge_case3_{i}_{j}\", hess3[i, j]))"
   ]
  },
  {
   "cell_type": "code",
   "execution_count": null,
   "metadata": {},
   "outputs": [],
   "source": []
  },
  {
   "cell_type": "code",
   "execution_count": null,
   "metadata": {},
   "outputs": [],
   "source": []
  },
  {
   "cell_type": "code",
   "execution_count": null,
   "metadata": {},
   "outputs": [],
   "source": []
  },
  {
   "cell_type": "code",
   "execution_count": null,
   "metadata": {},
   "outputs": [],
   "source": []
  },
  {
   "cell_type": "code",
   "execution_count": null,
   "metadata": {},
   "outputs": [],
   "source": []
  }
 ],
 "metadata": {
  "kernelspec": {
   "display_name": "playground",
   "language": "python",
   "name": "python3"
  },
  "language_info": {
   "codemirror_mode": {
    "name": "ipython",
    "version": 3
   },
   "file_extension": ".py",
   "mimetype": "text/x-python",
   "name": "python",
   "nbconvert_exporter": "python",
   "pygments_lexer": "ipython3",
   "version": "3.10.13"
  }
 },
 "nbformat": 4,
 "nbformat_minor": 2
}
