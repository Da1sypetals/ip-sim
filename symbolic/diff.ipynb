{
 "cells": [
  {
   "cell_type": "code",
   "execution_count": null,
   "metadata": {},
   "outputs": [],
   "source": [
    "import sympy as sp\n",
    "\n",
    "# 定义符号变量\n",
    "d, dhat = sp.symbols('d dhat')\n",
    "\n",
    "# 定义一个函数\n",
    "f = -(d-dhat)**2 * sp.ln(d/dhat)\n",
    "\n",
    "# 求偏导数\n",
    "diff1 = sp.simplify(sp.diff(f, d))  # 对 x 求偏导\n",
    "diff2 = sp.simplify(sp.diff(diff1, d))\n",
    "\n",
    "# 打印结果\n",
    "diff2"
   ]
  },
  {
   "cell_type": "code",
   "execution_count": null,
   "metadata": {},
   "outputs": [],
   "source": [
    "print(diff2)"
   ]
  },
  {
   "cell_type": "code",
   "execution_count": null,
   "metadata": {},
   "outputs": [],
   "source": [
    "import sympy as sp\n",
    "d, dhat = sp.symbols('_sym00 _sym01')\n",
    "print(d)"
   ]
  },
  {
   "cell_type": "markdown",
   "metadata": {},
   "source": [
    "## Distance Diff"
   ]
  },
  {
   "cell_type": "markdown",
   "metadata": {},
   "source": [
    "**p在start外**"
   ]
  },
  {
   "cell_type": "code",
   "execution_count": null,
   "metadata": {},
   "outputs": [],
   "source": [
    "import sympy as sp\n",
    "\n",
    "# 定义符号\n",
    "px, py = sp.symbols('p_x p_y', real=True)\n",
    "e0x, e0y, ax, ay = sp.symbols('e_0x e_0y e_1x e_1y', real=True)\n",
    "\n",
    "# 定义向量\n",
    "a = sp.Matrix([e0x, e0y])\n",
    "b = sp.Matrix([ax, ay])\n",
    "p = sp.Matrix([px, py])\n",
    "\n",
    "# 定义向量差\n",
    "ab = b - a\n",
    "ap = p - a\n",
    "\n",
    "# 段1：Check if the point is closest to the start of the edge\n",
    "# if ab.dot(ap) <= 0.0:\n",
    "#     return ap.norm()\n",
    "\n",
    "# 对ap.norm()求导\n",
    "ap_norm = ap.norm()\n",
    "ap_norm_derivatives = {\n",
    "    'px': ap_norm.diff(px),\n",
    "    'py': ap_norm.diff(py),\n",
    "    'e0x': ap_norm.diff(e0x),\n",
    "    'e0y': ap_norm.diff(e0y),\n",
    "    'e1x': ap_norm.diff(ax),\n",
    "    'e1y': ap_norm.diff(ay)\n",
    "}\n",
    "\n",
    "print(\"段1：对ap.norm()求导\")\n",
    "for symbol, derivative in ap_norm_derivatives.items():\n",
    "    print(f\"对{symbol}的导数: {derivative}\")\n",
    "print()\n"
   ]
  },
  {
   "cell_type": "code",
   "execution_count": null,
   "metadata": {},
   "outputs": [],
   "source": [
    "import sympy as sp\n",
    "\n",
    "# 定义符号并声明为实数\n",
    "px, py = sp.symbols('px py', real=True)\n",
    "e0x, e0y, ax, ay = sp.symbols('e0x e0y e1x e1y', real=True)\n",
    "\n",
    "# 定义向量\n",
    "a = sp.Matrix([e0x, e0y])\n",
    "b = sp.Matrix([ax, ay])\n",
    "p = sp.Matrix([px, py])\n",
    "\n",
    "# 定义向量差\n",
    "ab = b - a\n",
    "ap = p - a\n",
    "\n",
    "# 段1：Check if the point is closest to the start of the edge\n",
    "# if ab.dot(ap) <= 0.0:\n",
    "#     return ap.norm()\n",
    "\n",
    "# 对ap.norm()求导\n",
    "ap_norm = ap.norm()\n",
    "\n",
    "# 计算Hessian矩阵\n",
    "hessian_ap_norm = sp.Matrix([\n",
    "    [ap_norm.diff(px, px), ap_norm.diff(px, py), ap_norm.diff(px, e0x), ap_norm.diff(px, e0y), ap_norm.diff(px, ax), ap_norm.diff(px, ay)],\n",
    "    [ap_norm.diff(py, px), ap_norm.diff(py, py), ap_norm.diff(py, e0x), ap_norm.diff(py, e0y), ap_norm.diff(py, ax), ap_norm.diff(py, ay)],\n",
    "    [ap_norm.diff(e0x, px), ap_norm.diff(e0x, py), ap_norm.diff(e0x, e0x), ap_norm.diff(e0x, e0y), ap_norm.diff(e0x, ax), ap_norm.diff(e0x, ay)],\n",
    "    [ap_norm.diff(e0y, px), ap_norm.diff(e0y, py), ap_norm.diff(e0y, e0x), ap_norm.diff(e0y, e0y), ap_norm.diff(e0y, ax), ap_norm.diff(e0y, ay)],\n",
    "    [ap_norm.diff(ax, px), ap_norm.diff(ax, py), ap_norm.diff(ax, e0x), ap_norm.diff(ax, e0y), ap_norm.diff(ax, ax), ap_norm.diff(ax, ay)],\n",
    "    [ap_norm.diff(ay, px), ap_norm.diff(ay, py), ap_norm.diff(ay, e0x), ap_norm.diff(ay, e0y), ap_norm.diff(ay, ax), ap_norm.diff(ay, ay)]\n",
    "])\n",
    "\n",
    "hessian_ap_norm = sp.simplify(hessian_ap_norm)\n",
    "\n",
    "print(\"段1：对ap.norm()的Hessian矩阵\")\n",
    "hessian_ap_norm\n"
   ]
  },
  {
   "cell_type": "markdown",
   "metadata": {},
   "source": [
    "**p 在end外**"
   ]
  },
  {
   "cell_type": "code",
   "execution_count": null,
   "metadata": {},
   "outputs": [],
   "source": [
    "import sympy as sp\n",
    "\n",
    "# 定义符号并声明为实数\n",
    "px, py = sp.symbols('px py', real=True)\n",
    "e0x, e0y, ax, ay = sp.symbols('e0x e0y e1x e1y', real=True)\n",
    "\n",
    "# 定义向量\n",
    "a = sp.Matrix([e0x, e0y])\n",
    "b = sp.Matrix([ax, ay])\n",
    "p = sp.Matrix([px, py])\n",
    "\n",
    "# 定义向量差\n",
    "ab = b - a\n",
    "bp = p - b\n",
    "\n",
    "# 段2：Check if the point is closest to the end of the edge\n",
    "# if ab.dot(bp) >= 0.0:\n",
    "#     return bp.norm()\n",
    "\n",
    "# 对bp.norm()求导\n",
    "bp_norm = bp.norm()\n",
    "bp_norm_derivatives = {\n",
    "    'px': bp_norm.diff(px),\n",
    "    'py': bp_norm.diff(py),\n",
    "    'e0x': bp_norm.diff(e0x),\n",
    "    'e0y': bp_norm.diff(e0y),\n",
    "    'e1x': bp_norm.diff(ax),\n",
    "    'e1y': bp_norm.diff(ay)\n",
    "}\n",
    "\n",
    "print(\"段2：对bp.norm()求导\")\n",
    "for symbol, derivative in bp_norm_derivatives.items():\n",
    "    print(f\"对{symbol}的导数: {derivative}\")\n",
    "print()\n"
   ]
  },
  {
   "cell_type": "code",
   "execution_count": null,
   "metadata": {},
   "outputs": [],
   "source": [
    "import sympy as sp\n",
    "\n",
    "# 定义符号并声明为实数\n",
    "px, py = sp.symbols('px py', real=True)\n",
    "e0x, e0y, ax, ay = sp.symbols('e0x e0y e1x e1y', real=True)\n",
    "\n",
    "# 定义向量\n",
    "a = sp.Matrix([e0x, e0y])\n",
    "b = sp.Matrix([ax, ay])\n",
    "p = sp.Matrix([px, py])\n",
    "\n",
    "# 定义向量差\n",
    "ab = b - a\n",
    "bp = p - b\n",
    "\n",
    "# 段2：Check if the point is closest to the end of the edge\n",
    "# if ab.dot(bp) >= 0.0:\n",
    "#     return bp.norm()\n",
    "\n",
    "# 对bp.norm()求导\n",
    "bp_norm = bp.norm()\n",
    "\n",
    "# 计算Hessian矩阵\n",
    "hessian_bp_norm = sp.Matrix([\n",
    "    [bp_norm.diff(px, px), bp_norm.diff(px, py), bp_norm.diff(px, e0x), bp_norm.diff(px, e0y), bp_norm.diff(px, ax), bp_norm.diff(px, ay)],\n",
    "    [bp_norm.diff(py, px), bp_norm.diff(py, py), bp_norm.diff(py, e0x), bp_norm.diff(py, e0y), bp_norm.diff(py, ax), bp_norm.diff(py, ay)],\n",
    "    [bp_norm.diff(e0x, px), bp_norm.diff(e0x, py), bp_norm.diff(e0x, e0x), bp_norm.diff(e0x, e0y), bp_norm.diff(e0x, ax), bp_norm.diff(e0x, ay)],\n",
    "    [bp_norm.diff(e0y, px), bp_norm.diff(e0y, py), bp_norm.diff(e0y, e0x), bp_norm.diff(e0y, e0y), bp_norm.diff(e0y, ax), bp_norm.diff(e0y, ay)],\n",
    "    [bp_norm.diff(ax, px), bp_norm.diff(ax, py), bp_norm.diff(ax, e0x), bp_norm.diff(ax, e0y), bp_norm.diff(ax, ax), bp_norm.diff(ax, ay)],\n",
    "    [bp_norm.diff(ay, px), bp_norm.diff(ay, py), bp_norm.diff(ay, e0x), bp_norm.diff(ay, e0y), bp_norm.diff(ay, ax), bp_norm.diff(ay, ay)]\n",
    "])\n",
    "\n",
    "hessian_bp_norm = sp.simplify(hessian_bp_norm)\n",
    "\n",
    "print(\"段2：对bp.norm()的Hessian矩阵\")\n",
    "hessian_bp_norm\n"
   ]
  },
  {
   "cell_type": "markdown",
   "metadata": {},
   "source": [
    "**p在两线段中间**"
   ]
  },
  {
   "cell_type": "code",
   "execution_count": null,
   "metadata": {},
   "outputs": [],
   "source": [
    "import sympy as sp\n",
    "from tqdm import tqdm\n",
    "\n",
    "# 定义符号并声明为实数\n",
    "px, py = sp.symbols('px py', real=True)\n",
    "e0x, e0y, ax, ay = sp.symbols('e0x e0y e1x e1y', real=True)\n",
    "\n",
    "# 定义向量\n",
    "a = sp.Matrix([e0x, e0y])\n",
    "b = sp.Matrix([ax, ay])\n",
    "p = sp.Matrix([px, py])\n",
    "\n",
    "# 定义向量差\n",
    "ab = b - a\n",
    "ap = p - a\n",
    "\n",
    "# 段3：The point is closest to the edge itself\n",
    "# ap_proj_on_ab = ap.dot(ab) / ab.norm_squared()\n",
    "# proj_point = a + ap_proj_on_ab * ab\n",
    "# return (p - proj_point).norm()\n",
    "\n",
    "# 对(p - proj_point).norm()求导\n",
    "ap_proj_on_ab = ap.dot(ab) / ab.dot(ab)\n",
    "proj_point = a + ap_proj_on_ab * ab\n",
    "p_minus_proj_point = p - proj_point\n",
    "p_minus_proj_point_norm = p_minus_proj_point.norm()\n",
    "\n",
    "p_minus_proj_point_norm_derivatives = {\n",
    "    'px': p_minus_proj_point_norm.diff(px),\n",
    "    'py': p_minus_proj_point_norm.diff(py),\n",
    "    'e0x': p_minus_proj_point_norm.diff(e0x),\n",
    "    'e0y': p_minus_proj_point_norm.diff(e0y),\n",
    "    'e1x': p_minus_proj_point_norm.diff(ax),\n",
    "    'e1y': p_minus_proj_point_norm.diff(ay)\n",
    "}\n",
    "\n",
    "# p_minus_proj_point_norm_derivatives = {k: sp.simplify(v) for k, v in tqdm(p_minus_proj_point_norm_derivatives.items())}\n",
    "\n",
    "print(\"段3：对(p - proj_point).norm()求导\")\n",
    "for symbol, derivative in p_minus_proj_point_norm_derivatives.items():\n",
    "    print(f\"对{symbol}的导数: {derivative}\")\n",
    "print()\n"
   ]
  },
  {
   "cell_type": "code",
   "execution_count": null,
   "metadata": {},
   "outputs": [],
   "source": [
    "import sympy as sp\n",
    "\n",
    "# 定义符号并声明为实数\n",
    "px, py = sp.symbols('px py', real=True)\n",
    "e0x, e0y, ax, ay = sp.symbols('e0x e0y e1x e1y', real=True)\n",
    "\n",
    "# 定义向量\n",
    "a = sp.Matrix([e0x, e0y])\n",
    "b = sp.Matrix([ax, ay])\n",
    "p = sp.Matrix([px, py])\n",
    "\n",
    "# 定义向量差\n",
    "ab = b - a\n",
    "ap = p - a\n",
    "\n",
    "# 段3：The point is closest to the edge itself\n",
    "# ap_proj_on_ab = ap.dot(ab) / ab.norm_squared()\n",
    "# proj_point = a + ap_proj_on_ab * ab\n",
    "# return (p - proj_point).norm()\n",
    "\n",
    "# 对(p - proj_point).norm()求导\n",
    "ap_proj_on_ab = ap.dot(ab) / ab.dot(ab)\n",
    "proj_point = a + ap_proj_on_ab * ab\n",
    "p_minus_proj_point = p - proj_point\n",
    "p_minus_proj_point_norm = p_minus_proj_point.norm()\n",
    "\n",
    "# 计算Hessian矩阵\n",
    "hessian_p_minus_proj_point_norm = sp.Matrix([\n",
    "    [p_minus_proj_point_norm.diff(px, px), p_minus_proj_point_norm.diff(px, py), p_minus_proj_point_norm.diff(px, e0x), p_minus_proj_point_norm.diff(px, e0y), p_minus_proj_point_norm.diff(px, ax), p_minus_proj_point_norm.diff(px, ay)],\n",
    "    [p_minus_proj_point_norm.diff(py, px), p_minus_proj_point_norm.diff(py, py), p_minus_proj_point_norm.diff(py, e0x), p_minus_proj_point_norm.diff(py, e0y), p_minus_proj_point_norm.diff(py, ax), p_minus_proj_point_norm.diff(py, ay)],\n",
    "    [p_minus_proj_point_norm.diff(e0x, px), p_minus_proj_point_norm.diff(e0x, py), p_minus_proj_point_norm.diff(e0x, e0x), p_minus_proj_point_norm.diff(e0x, e0y), p_minus_proj_point_norm.diff(e0x, ax), p_minus_proj_point_norm.diff(e0x, ay)],\n",
    "    [p_minus_proj_point_norm.diff(e0y, px), p_minus_proj_point_norm.diff(e0y, py), p_minus_proj_point_norm.diff(e0y, e0x), p_minus_proj_point_norm.diff(e0y, e0y), p_minus_proj_point_norm.diff(e0y, ax), p_minus_proj_point_norm.diff(e0y, ay)],\n",
    "    [p_minus_proj_point_norm.diff(ax, px), p_minus_proj_point_norm.diff(ax, py), p_minus_proj_point_norm.diff(ax, e0x), p_minus_proj_point_norm.diff(ax, e0y), p_minus_proj_point_norm.diff(ax, ax), p_minus_proj_point_norm.diff(ax, ay)],\n",
    "    [p_minus_proj_point_norm.diff(ay, px), p_minus_proj_point_norm.diff(ay, py), p_minus_proj_point_norm.diff(ay, e0x), p_minus_proj_point_norm.diff(ay, e0y), p_minus_proj_point_norm.diff(ay, ax), p_minus_proj_point_norm.diff(ay, ay)]\n",
    "])\n",
    "\n",
    "# hessian_p_minus_proj_point_norm = sp.simplify(hessian_p_minus_proj_point_norm)\n",
    "\n",
    "print(\"段3：对(p - proj_point).norm()的Hessian矩阵\")\n",
    "hessian_p_minus_proj_point_norm\n"
   ]
  },
  {
   "cell_type": "code",
   "execution_count": null,
   "metadata": {},
   "outputs": [],
   "source": [
    "for i in range(6):\n",
    "    for j in range(6):\n",
    "        print(f'({i}, {j}): {hessian_p_minus_proj_point_norm[i,j]}')\n",
    "        print()\n",
    "        print()"
   ]
  },
  {
   "cell_type": "markdown",
   "metadata": {},
   "source": [
    "## Grad (case 3)"
   ]
  },
  {
   "cell_type": "code",
   "execution_count": 2,
   "metadata": {},
   "outputs": [
    {
     "name": "stdout",
     "output_type": "stream",
     "text": [
      "距离 d: Abs((a_x - b_x)*(a_y - p_y) - (a_x - p_x)*(a_y - b_y))/sqrt((-a_x + b_x)**2 + (-a_y + b_y)**2)\n",
      "d 对 p 的梯度: [(a_y - b_y)*sign((a_x - b_x)*(a_y - p_y) - (a_x - p_x)*(a_y - b_y))/sqrt((-a_x + b_x)**2 + (-a_y + b_y)**2), (-a_x + b_x)*sign((a_x - b_x)*(a_y - p_y) - (a_x - p_x)*(a_y - b_y))/sqrt((-a_x + b_x)**2 + (-a_y + b_y)**2)]\n",
      "d 对 a 的梯度: [(-a_x + b_x)*Abs((a_x - b_x)*(a_y - p_y) - (a_x - p_x)*(a_y - b_y))/((-a_x + b_x)**2 + (-a_y + b_y)**2)**(3/2) + (b_y - p_y)*sign((a_x - b_x)*(a_y - p_y) - (a_x - p_x)*(a_y - b_y))/sqrt((-a_x + b_x)**2 + (-a_y + b_y)**2), (-a_y + b_y)*Abs((a_x - b_x)*(a_y - p_y) - (a_x - p_x)*(a_y - b_y))/((-a_x + b_x)**2 + (-a_y + b_y)**2)**(3/2) + (-b_x + p_x)*sign((a_x - b_x)*(a_y - p_y) - (a_x - p_x)*(a_y - b_y))/sqrt((-a_x + b_x)**2 + (-a_y + b_y)**2)]\n",
      "d 对 b 的梯度: [(a_x - b_x)*Abs((a_x - b_x)*(a_y - p_y) - (a_x - p_x)*(a_y - b_y))/((-a_x + b_x)**2 + (-a_y + b_y)**2)**(3/2) + (-a_y + p_y)*sign((a_x - b_x)*(a_y - p_y) - (a_x - p_x)*(a_y - b_y))/sqrt((-a_x + b_x)**2 + (-a_y + b_y)**2), (a_x - p_x)*sign((a_x - b_x)*(a_y - p_y) - (a_x - p_x)*(a_y - b_y))/sqrt((-a_x + b_x)**2 + (-a_y + b_y)**2) + (a_y - b_y)*Abs((a_x - b_x)*(a_y - p_y) - (a_x - p_x)*(a_y - b_y))/((-a_x + b_x)**2 + (-a_y + b_y)**2)**(3/2)]\n"
     ]
    }
   ],
   "source": [
    "import sympy as sp\n",
    "\n",
    "# 定义符号变量\n",
    "px, py, ax, ay, bx, by = sp.symbols('p_x p_y a_x a_y b_x b_y', real=True)\n",
    "\n",
    "# 定义点 p, e1, e2\n",
    "p = sp.Matrix([px, py])\n",
    "a = sp.Matrix([ax, ay])\n",
    "b = sp.Matrix([bx, by])\n",
    "\n",
    "# 计算向量 e2 - e1\n",
    "v = b - a\n",
    "\n",
    "# 计算点 p 到直线 e1e2 的距离 d\n",
    "# 公式：d = |(p - e1) x v| / |v|\n",
    "# 其中 x 表示向量叉积，|v| 表示向量 v 的模\n",
    "cross_product = (p - a)[0] * v[1] - (p - a)[1] * v[0]\n",
    "v_norm = sp.sqrt(v[0]**2 + v[1]**2)\n",
    "d = sp.Abs(cross_product) / v_norm\n",
    "\n",
    "# 求 d 对 p, e1, e2 的梯度\n",
    "grad_d_p = [sp.diff(d, px), sp.diff(d, py)]\n",
    "grad_d_a = [sp.diff(d, ax), sp.diff(d, ay)]\n",
    "grad_d_b = [sp.diff(d, bx), sp.diff(d, by)]\n",
    "\n",
    "# 打印结果\n",
    "print(\"距离 d:\", d)\n",
    "print(\"d 对 p 的梯度:\", grad_d_p)\n",
    "print(\"d 对 a 的梯度:\", grad_d_a)\n",
    "print(\"d 对 b 的梯度:\", grad_d_b)\n"
   ]
  },
  {
   "cell_type": "code",
   "execution_count": 4,
   "metadata": {},
   "outputs": [
    {
     "name": "stdout",
     "output_type": "stream",
     "text": [
      "\\left[ \\frac{\\left(a_{y} - b_{y}\\right) \\operatorname{sign}{\\left(\\left(a_{x} - b_{x}\\right) \\left(a_{y} - p_{y}\\right) - \\left(a_{x} - p_{x}\\right) \\left(a_{y} - b_{y}\\right) \\right)}}{\\sqrt{\\left(- a_{x} + b_{x}\\right)^{2} + \\left(- a_{y} + b_{y}\\right)^{2}}}, \\  \\frac{\\left(- a_{x} + b_{x}\\right) \\operatorname{sign}{\\left(\\left(a_{x} - b_{x}\\right) \\left(a_{y} - p_{y}\\right) - \\left(a_{x} - p_{x}\\right) \\left(a_{y} - b_{y}\\right) \\right)}}{\\sqrt{\\left(- a_{x} + b_{x}\\right)^{2} + \\left(- a_{y} + b_{y}\\right)^{2}}}\\right]\n"
     ]
    }
   ],
   "source": [
    "print(sp.latex(grad_d_p))"
   ]
  },
  {
   "cell_type": "code",
   "execution_count": 31,
   "metadata": {},
   "outputs": [
    {
     "name": "stdout",
     "output_type": "stream",
     "text": [
      "\\left[ \\frac{\\left(- a_{x} + b_{x}\\right) \\left|{\\left(a_{x} - b_{x}\\right) \\left(a_{y} - p_{y}\\right) - \\left(a_{x} - p_{x}\\right) \\left(a_{y} - b_{y}\\right)}\\right|}{\\left(\\left(- a_{x} + b_{x}\\right)^{2} + \\left(- a_{y} + b_{y}\\right)^{2}\\right)^{\\frac{3}{2}}} + \\frac{\\left(b_{y} - p_{y}\\right) \\operatorname{sign}{\\left(\\left(a_{x} - b_{x}\\right) \\left(a_{y} - p_{y}\\right) - \\left(a_{x} - p_{x}\\right) \\left(a_{y} - b_{y}\\right) \\right)}}{\\sqrt{\\left(- a_{x} + b_{x}\\right)^{2} + \\left(- a_{y} + b_{y}\\right)^{2}}}, \\  \\frac{\\left(- a_{y} + b_{y}\\right) \\left|{\\left(a_{x} - b_{x}\\right) \\left(a_{y} - p_{y}\\right) - \\left(a_{x} - p_{x}\\right) \\left(a_{y} - b_{y}\\right)}\\right|}{\\left(\\left(- a_{x} + b_{x}\\right)^{2} + \\left(- a_{y} + b_{y}\\right)^{2}\\right)^{\\frac{3}{2}}} + \\frac{\\left(- b_{x} + p_{x}\\right) \\operatorname{sign}{\\left(\\left(a_{x} - b_{x}\\right) \\left(a_{y} - p_{y}\\right) - \\left(a_{x} - p_{x}\\right) \\left(a_{y} - b_{y}\\right) \\right)}}{\\sqrt{\\left(- a_{x} + b_{x}\\right)^{2} + \\left(- a_{y} + b_{y}\\right)^{2}}}\\right]\n"
     ]
    }
   ],
   "source": [
    "print(sp.latex(grad_d_a))"
   ]
  },
  {
   "cell_type": "code",
   "execution_count": 12,
   "metadata": {},
   "outputs": [
    {
     "data": {
      "text/plain": [
       "\"/*\\n *                       Code generated with SymPy 1.12\\n *\\n *              See http://www.sympy.org/ for more information.\\n *\\n *                       This file is part of 'project'\\n */\\n\\nfn orthogonality_error(a11: f64, a12: f64, a21: f64, a22: f64) -> f64 {\\n\\n    let out1 = max(((1_f64/2.0)*a11.powi(4) + a11.powi(2)*a12.powi(2) + a11.powi(2)*a21.powi(2) - a11.powi(2) + 2*a11*a12*a21*a22 + (1_f64/2.0)*a12.powi(4) + a12.powi(2)*a22.powi(2) - a12.powi(2) + (1_f64/2.0)*a21.powi(4) + a21.powi(2)*a22.powi(2) - a21.powi(2) + (1_f64/2.0)*a22.powi(4) - a22.powi(2) - 1_f64/2.0*((a11.powi(2) - 2*a11*a22 + a12.powi(2) + 2*a12*a21 + a21.powi(2) + a22.powi(2))*(a11.powi(2) + 2*a11*a22 + a12.powi(2) - 2*a12*a21 + a21.powi(2) + a22.powi(2))).sqrt()*(a11.powi(2) + a12.powi(2) + a21.powi(2) + a22.powi(2) - 2) + 1).sqrt(), ((1_f64/2.0)*a11.powi(4) + a11.powi(2)*a12.powi(2) + a11.powi(2)*a21.powi(2) - a11.powi(2) + 2*a11*a12*a21*a22 + (1_f64/2.0)*a12.powi(4) + a12.powi(2)*a22.powi(2) - a12.powi(2) + (1_f64/2.0)*a21.powi(4) + a21.powi(2)*a22.powi(2) - a21.powi(2) + (1_f64/2.0)*a22.powi(4) - a22.powi(2) + (1_f64/2.0)*((a11.powi(2) - 2*a11*a22 + a12.powi(2) + 2*a12*a21 + a21.powi(2) + a22.powi(2))*(a11.powi(2) + 2*a11*a22 + a12.powi(2) - 2*a12*a21 + a21.powi(2) + a22.powi(2))).sqrt()*(a11.powi(2) + a12.powi(2) + a21.powi(2) + a22.powi(2) - 2) + 1).sqrt());\\n    out1\\n\\n}\\n\""
      ]
     },
     "execution_count": 12,
     "metadata": {},
     "output_type": "execute_result"
    }
   ],
   "source": [
    "import sympy as sp\n",
    "from sympy.utilities.codegen import codegen\n",
    "\n",
    "# 定义符号\n",
    "a11, a12, a21, a22 = sp.symbols('a11 a12 a21 a22', real=True)\n",
    "\n",
    "# 定义矩阵 a\n",
    "a = sp.Matrix([[a11, a12], [a21, a22]])\n",
    "\n",
    "# 定义单位矩阵\n",
    "eye = sp.Matrix.eye(2)\n",
    "\n",
    "# 计算正交性误差的 Frobenius 范数\n",
    "orth = (a @ a.T - eye).norm(2)  # 使用 Frobenius 范数\n",
    "\n",
    "# 生成 Rust 代码\n",
    "result = codegen(\n",
    "    (\"orthogonality_error\", orth),\n",
    "    language=\"Rust\",\n",
    "    prefix=\"rust_code\"\n",
    ")[0][1]\n",
    "\n"
   ]
  },
  {
   "cell_type": "code",
   "execution_count": 13,
   "metadata": {},
   "outputs": [
    {
     "name": "stdout",
     "output_type": "stream",
     "text": [
      "/*\n",
      " *                       Code generated with SymPy 1.12\n",
      " *\n",
      " *              See http://www.sympy.org/ for more information.\n",
      " *\n",
      " *                       This file is part of 'project'\n",
      " */\n",
      "\n",
      "fn orthogonality_error(a11: f64, a12: f64, a21: f64, a22: f64) -> f64 {\n",
      "\n",
      "    let out1 = max(((1_f64/2.0)*a11.powi(4) + a11.powi(2)*a12.powi(2) + a11.powi(2)*a21.powi(2) - a11.powi(2) + 2*a11*a12*a21*a22 + (1_f64/2.0)*a12.powi(4) + a12.powi(2)*a22.powi(2) - a12.powi(2) + (1_f64/2.0)*a21.powi(4) + a21.powi(2)*a22.powi(2) - a21.powi(2) + (1_f64/2.0)*a22.powi(4) - a22.powi(2) - 1_f64/2.0*((a11.powi(2) - 2*a11*a22 + a12.powi(2) + 2*a12*a21 + a21.powi(2) + a22.powi(2))*(a11.powi(2) + 2*a11*a22 + a12.powi(2) - 2*a12*a21 + a21.powi(2) + a22.powi(2))).sqrt()*(a11.powi(2) + a12.powi(2) + a21.powi(2) + a22.powi(2) - 2) + 1).sqrt(), ((1_f64/2.0)*a11.powi(4) + a11.powi(2)*a12.powi(2) + a11.powi(2)*a21.powi(2) - a11.powi(2) + 2*a11*a12*a21*a22 + (1_f64/2.0)*a12.powi(4) + a12.powi(2)*a22.powi(2) - a12.powi(2) + (1_f64/2.0)*a21.powi(4) + a21.powi(2)*a22.powi(2) - a21.powi(2) + (1_f64/2.0)*a22.powi(4) - a22.powi(2) + (1_f64/2.0)*((a11.powi(2) - 2*a11*a22 + a12.powi(2) + 2*a12*a21 + a21.powi(2) + a22.powi(2))*(a11.powi(2) + 2*a11*a22 + a12.powi(2) - 2*a12*a21 + a21.powi(2) + a22.powi(2))).sqrt()*(a11.powi(2) + a12.powi(2) + a21.powi(2) + a22.powi(2) - 2) + 1).sqrt());\n",
      "    out1\n",
      "\n",
      "}\n",
      "\n"
     ]
    }
   ],
   "source": [
    "print(result)"
   ]
  },
  {
   "cell_type": "code",
   "execution_count": null,
   "metadata": {},
   "outputs": [],
   "source": []
  },
  {
   "cell_type": "code",
   "execution_count": null,
   "metadata": {},
   "outputs": [],
   "source": []
  },
  {
   "cell_type": "code",
   "execution_count": null,
   "metadata": {},
   "outputs": [],
   "source": []
  },
  {
   "cell_type": "code",
   "execution_count": null,
   "metadata": {},
   "outputs": [],
   "source": []
  }
 ],
 "metadata": {
  "kernelspec": {
   "display_name": "playground",
   "language": "python",
   "name": "python3"
  },
  "language_info": {
   "codemirror_mode": {
    "name": "ipython",
    "version": 3
   },
   "file_extension": ".py",
   "mimetype": "text/x-python",
   "name": "python",
   "nbconvert_exporter": "python",
   "pygments_lexer": "ipython3",
   "version": "3.10.13"
  }
 },
 "nbformat": 4,
 "nbformat_minor": 2
}
