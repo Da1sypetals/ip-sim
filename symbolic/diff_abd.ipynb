{
 "cells": [
  {
   "cell_type": "markdown",
   "metadata": {},
   "source": [
    "## Orth potential"
   ]
  },
  {
   "cell_type": "code",
   "execution_count": null,
   "metadata": {},
   "outputs": [],
   "source": [
    "import sympy as sp\n",
    "from sympy.utilities.codegen import codegen\n",
    "def gen_c(fn_name, expr):\n",
    "    return codegen(\n",
    "        (fn_name, expr),\n",
    "        language=\"C\",\n",
    "    )[0][1]\n",
    "\n",
    "# 定义符号\n",
    "a11, a12, a21, a22 = sp.symbols('a11 a12 a21 a22', real=True)\n",
    "\n",
    "# 定义矩阵 a\n",
    "a = sp.Matrix([[a11, a12], [a21, a22]])\n",
    "\n",
    "# 定义单位矩阵\n",
    "eye = sp.Matrix.eye(2)\n",
    "\n",
    "# 计算正交性误差的 Frobenius 范数\n",
    "orth = (a @ a.T - eye).norm(2)  # 使用 Frobenius 范数\n",
    "\n",
    "# 对向量 [a11, a12, a21, a22] 求导\n",
    "grad_orth = sp.Matrix([\n",
    "    sp.diff(orth, a11),\n",
    "    sp.diff(orth, a12),\n",
    "    sp.diff(orth, a21),\n",
    "    sp.diff(orth, a22)\n",
    "])\n",
    "\n",
    "# 计算 Hessian 矩阵\n",
    "hess_orth = sp.Matrix([\n",
    "    [sp.diff(grad_orth[0], a11), sp.diff(grad_orth[0], a12), sp.diff(grad_orth[0], a21), sp.diff(grad_orth[0], a22)],\n",
    "    [sp.diff(grad_orth[1], a11), sp.diff(grad_orth[1], a12), sp.diff(grad_orth[1], a21), sp.diff(grad_orth[1], a22)],\n",
    "    [sp.diff(grad_orth[2], a11), sp.diff(grad_orth[2], a12), sp.diff(grad_orth[2], a21), sp.diff(grad_orth[2], a22)],\n",
    "    [sp.diff(grad_orth[3], a11), sp.diff(grad_orth[3], a12), sp.diff(grad_orth[3], a21), sp.diff(grad_orth[3], a22)]\n",
    "])\n",
    "\n",
    "print(\"Orthogonality Error:\", orth)\n",
    "print(\"Gradient:\", grad_orth)\n",
    "print(\"Hessian:\", hess_orth)\n"
   ]
  },
  {
   "cell_type": "code",
   "execution_count": null,
   "metadata": {},
   "outputs": [],
   "source": [
    "hess_orth[0, 0]"
   ]
  },
  {
   "cell_type": "code",
   "execution_count": null,
   "metadata": {},
   "outputs": [],
   "source": [
    "for i in range(4):\n",
    "    for j in range(4):\n",
    "        # name = f\"hess_orth_{i}{j}\"\n",
    "        # ccode = gen_c(name, hess_orth[i, j])\n",
    "        # path = f'ccode/{name}.c'\n",
    "        path = f'src/sim/generated/abd/hess/hess_orth_{i}{j}.rs'\n",
    "        with open(path, 'w') as file:\n",
    "            file.write(\"// This code is generated. \\n\")\n",
    "        print(f'Saved {path}')"
   ]
  },
  {
   "cell_type": "code",
   "execution_count": null,
   "metadata": {},
   "outputs": [],
   "source": [
    "\n",
    "print(gen_c(\"hess_orth_00\", grad_orth[0, 0]))"
   ]
  },
  {
   "cell_type": "markdown",
   "metadata": {},
   "source": [
    "## Contact"
   ]
  },
  {
   "cell_type": "code",
   "execution_count": null,
   "metadata": {},
   "outputs": [],
   "source": [
    "import sympy as sp\n",
    "\n",
    "# 定义符号\n",
    "px, py = sp.symbols('px py', real=True)\n",
    "x1x, x1y = sp.symbols('x1x x1y', real=True)\n",
    "x2x, x2y = sp.symbols('x2x x2y', real=True)\n",
    "a11, a12, a21, a22 = sp.symbols('a11 a12 a21 a22', real=True)\n",
    "tx, ty = sp.symbols('tx ty', real=True)\n",
    "\n",
    "# 定义点 p 和向量 x1, x2\n",
    "p = sp.Matrix([px, py])\n",
    "x1 = sp.Matrix([x1x, x1y])\n",
    "x2 = sp.Matrix([x2x, x2y])\n",
    "\n",
    "# 定义矩阵 a 和向量 t\n",
    "a = sp.Matrix([[a11, a12], [a21, a22]])\n",
    "t = sp.Matrix([tx, ty])\n",
    "\n",
    "# 定义顶点 e1 和 e2\n",
    "e1 = a @ x1 + t\n",
    "e2 = a @ x2 + t\n"
   ]
  },
  {
   "cell_type": "markdown",
   "metadata": {},
   "source": [
    "## Case 1"
   ]
  },
  {
   "cell_type": "code",
   "execution_count": null,
   "metadata": {},
   "outputs": [],
   "source": [
    "# 计算向量 ap\n",
    "ap = p - e1\n",
    "\n",
    "# 计算距离\n",
    "distance_case1 = ap.norm()\n",
    "\n",
    "# 对 [px, py, a11, a12, a21, a22, tx, ty] 求导\n",
    "derivatives_case1 = sp.Matrix([\n",
    "    sp.diff(distance_case1, tx),\n",
    "    sp.diff(distance_case1, ty),\n",
    "    sp.diff(distance_case1, a11),\n",
    "    sp.diff(distance_case1, a12),\n",
    "    sp.diff(distance_case1, a21),\n",
    "    sp.diff(distance_case1, a22),\n",
    "])\n",
    "\n",
    "\n",
    "\n",
    "print(\"Case 1 Distance:\", distance_case1)\n",
    "print(\"Case 1 Derivatives:\", derivatives_case1)\n",
    "d1_simp = sp.simplify(derivatives_case1)\n"
   ]
  },
  {
   "cell_type": "code",
   "execution_count": null,
   "metadata": {},
   "outputs": [],
   "source": [
    "from sympy.utilities.codegen import codegen\n",
    "def gen_rust(fn_name, expr):\n",
    "    return codegen(\n",
    "        (fn_name, expr),\n",
    "        language=\"Rust\",\n",
    "    )[0][1]\n",
    "\n",
    "ccode = gen_rust(\"d_grad_case1\", derivatives_case1)\n",
    "\n",
    "print(ccode)"
   ]
  },
  {
   "cell_type": "markdown",
   "metadata": {},
   "source": [
    "## Case 2"
   ]
  },
  {
   "cell_type": "code",
   "execution_count": null,
   "metadata": {},
   "outputs": [],
   "source": [
    "# 计算向量 bp\n",
    "bp = p - e2\n",
    "\n",
    "# 计算距离\n",
    "distance_case2 = bp.norm()\n",
    "\n",
    "# 对 [px, py, a11, a12, a21, a22, tx, ty] 求导\n",
    "derivatives_case2 = sp.Matrix([\n",
    "    sp.diff(distance_case2, px),\n",
    "    sp.diff(distance_case2, py),\n",
    "    sp.diff(distance_case2, a11),\n",
    "    sp.diff(distance_case2, a12),\n",
    "    sp.diff(distance_case2, a21),\n",
    "    sp.diff(distance_case2, a22),\n",
    "    sp.diff(distance_case2, tx),\n",
    "    sp.diff(distance_case2, ty),\n",
    "])\n",
    "\n",
    "print(\"Case 2 Distance:\", distance_case2)\n",
    "print(\"Case 2 Derivatives:\", derivatives_case2)\n",
    "d2_simp = sp.simplify(derivatives_case2)\n",
    "\n"
   ]
  },
  {
   "cell_type": "code",
   "execution_count": null,
   "metadata": {},
   "outputs": [],
   "source": [
    "derivatives_case2"
   ]
  },
  {
   "cell_type": "markdown",
   "metadata": {},
   "source": [
    "## Case 3"
   ]
  },
  {
   "cell_type": "code",
   "execution_count": null,
   "metadata": {},
   "outputs": [],
   "source": [
    "# 计算向量 ab 和 ap\n",
    "ab = e2 - e1\n",
    "ap = p - e1\n",
    "\n",
    "# 计算 ap 在 ab 上的投影\n",
    "ap_proj_on_ab = (ap.dot(ab) / ab.norm()**2) * ab\n",
    "\n",
    "# 计算投影点\n",
    "proj_point = e1 + ap_proj_on_ab\n",
    "\n",
    "# 计算距离\n",
    "distance_case3 = (p - proj_point).norm()\n",
    "\n",
    "# 对 [px, py, a11, a12, a21, a22, tx, ty] 求导\n",
    "derivatives_case3 = sp.Matrix([\n",
    "    sp.diff(distance_case3, px),\n",
    "    sp.diff(distance_case3, py),\n",
    "    sp.diff(distance_case3, tx),\n",
    "    sp.diff(distance_case3, ty),\n",
    "    sp.diff(distance_case3, a11),\n",
    "    sp.diff(distance_case3, a12),\n",
    "    sp.diff(distance_case3, a21),\n",
    "    sp.diff(distance_case3, a22),\n",
    "\n",
    "])\n",
    "\n",
    "print(\"Case 3 Distance:\", distance_case3)\n",
    "print(\"Case 3 Derivatives:\", derivatives_case3)\n"
   ]
  },
  {
   "cell_type": "code",
   "execution_count": null,
   "metadata": {},
   "outputs": [],
   "source": [
    "q = sp.Matrix([tx,ty,a11,a12,a21,a22])\n",
    "\n",
    "hess3 = sp.Matrix([\n",
    "    [distance_case3.diff(q[i]).diff(q[j]) for i in range(6)] for j in range(6)\n",
    "])"
   ]
  },
  {
   "cell_type": "code",
   "execution_count": null,
   "metadata": {},
   "outputs": [],
   "source": [
    "hess3"
   ]
  },
  {
   "cell_type": "code",
   "execution_count": null,
   "metadata": {},
   "outputs": [],
   "source": []
  },
  {
   "cell_type": "code",
   "execution_count": null,
   "metadata": {},
   "outputs": [],
   "source": []
  },
  {
   "cell_type": "code",
   "execution_count": null,
   "metadata": {},
   "outputs": [],
   "source": []
  },
  {
   "cell_type": "code",
   "execution_count": null,
   "metadata": {},
   "outputs": [],
   "source": []
  },
  {
   "cell_type": "code",
   "execution_count": null,
   "metadata": {},
   "outputs": [],
   "source": []
  },
  {
   "cell_type": "code",
   "execution_count": null,
   "metadata": {},
   "outputs": [],
   "source": []
  },
  {
   "cell_type": "code",
   "execution_count": null,
   "metadata": {},
   "outputs": [],
   "source": []
  },
  {
   "cell_type": "code",
   "execution_count": null,
   "metadata": {},
   "outputs": [],
   "source": []
  },
  {
   "cell_type": "code",
   "execution_count": null,
   "metadata": {},
   "outputs": [],
   "source": []
  },
  {
   "cell_type": "code",
   "execution_count": null,
   "metadata": {},
   "outputs": [],
   "source": []
  },
  {
   "cell_type": "code",
   "execution_count": null,
   "metadata": {},
   "outputs": [],
   "source": []
  },
  {
   "cell_type": "code",
   "execution_count": null,
   "metadata": {},
   "outputs": [],
   "source": []
  },
  {
   "cell_type": "code",
   "execution_count": null,
   "metadata": {},
   "outputs": [],
   "source": []
  },
  {
   "cell_type": "code",
   "execution_count": null,
   "metadata": {},
   "outputs": [],
   "source": []
  },
  {
   "cell_type": "code",
   "execution_count": null,
   "metadata": {},
   "outputs": [],
   "source": []
  },
  {
   "cell_type": "code",
   "execution_count": null,
   "metadata": {},
   "outputs": [],
   "source": []
  },
  {
   "cell_type": "code",
   "execution_count": null,
   "metadata": {},
   "outputs": [],
   "source": []
  },
  {
   "cell_type": "code",
   "execution_count": null,
   "metadata": {},
   "outputs": [],
   "source": []
  },
  {
   "cell_type": "code",
   "execution_count": null,
   "metadata": {},
   "outputs": [],
   "source": []
  },
  {
   "cell_type": "code",
   "execution_count": null,
   "metadata": {},
   "outputs": [],
   "source": []
  },
  {
   "cell_type": "code",
   "execution_count": null,
   "metadata": {},
   "outputs": [],
   "source": []
  },
  {
   "cell_type": "code",
   "execution_count": null,
   "metadata": {},
   "outputs": [],
   "source": []
  },
  {
   "cell_type": "code",
   "execution_count": null,
   "metadata": {},
   "outputs": [],
   "source": []
  },
  {
   "cell_type": "code",
   "execution_count": null,
   "metadata": {},
   "outputs": [],
   "source": []
  },
  {
   "cell_type": "code",
   "execution_count": null,
   "metadata": {},
   "outputs": [],
   "source": []
  },
  {
   "cell_type": "code",
   "execution_count": null,
   "metadata": {},
   "outputs": [],
   "source": []
  },
  {
   "cell_type": "code",
   "execution_count": null,
   "metadata": {},
   "outputs": [],
   "source": []
  },
  {
   "cell_type": "code",
   "execution_count": null,
   "metadata": {},
   "outputs": [],
   "source": []
  },
  {
   "cell_type": "code",
   "execution_count": null,
   "metadata": {},
   "outputs": [],
   "source": []
  },
  {
   "cell_type": "code",
   "execution_count": null,
   "metadata": {},
   "outputs": [],
   "source": []
  },
  {
   "cell_type": "code",
   "execution_count": null,
   "metadata": {},
   "outputs": [],
   "source": []
  },
  {
   "cell_type": "code",
   "execution_count": null,
   "metadata": {},
   "outputs": [],
   "source": []
  },
  {
   "cell_type": "code",
   "execution_count": null,
   "metadata": {},
   "outputs": [],
   "source": []
  },
  {
   "cell_type": "code",
   "execution_count": null,
   "metadata": {},
   "outputs": [],
   "source": []
  }
 ],
 "metadata": {
  "kernelspec": {
   "display_name": "playground",
   "language": "python",
   "name": "python3"
  },
  "language_info": {
   "codemirror_mode": {
    "name": "ipython",
    "version": 3
   },
   "file_extension": ".py",
   "mimetype": "text/x-python",
   "name": "python",
   "nbconvert_exporter": "python",
   "pygments_lexer": "ipython3",
   "version": "3.10.13"
  }
 },
 "nbformat": 4,
 "nbformat_minor": 2
}
