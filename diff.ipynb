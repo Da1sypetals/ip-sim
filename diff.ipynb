{
 "cells": [
  {
   "cell_type": "code",
   "execution_count": 10,
   "metadata": {},
   "outputs": [
    {
     "data": {
      "text/latex": [
       "$\\displaystyle - 2 \\log{\\left(\\frac{d}{\\hat{d}} \\right)} - 3 + \\frac{2 \\hat{d}}{d} + \\frac{\\hat{d}^{2}}{d^{2}}$"
      ],
      "text/plain": [
       "-2*log(d/dhat) - 3 + 2*dhat/d + dhat**2/d**2"
      ]
     },
     "execution_count": 10,
     "metadata": {},
     "output_type": "execute_result"
    }
   ],
   "source": [
    "import sympy as sp\n",
    "\n",
    "# 定义符号变量\n",
    "d, dhat = sp.symbols('d dhat')\n",
    "\n",
    "# 定义一个函数\n",
    "f = -(d-dhat)**2 * sp.ln(d/dhat)\n",
    "\n",
    "# 求偏导数\n",
    "diff1 = sp.simplify(sp.diff(f, d))  # 对 x 求偏导\n",
    "diff2 = sp.simplify(sp.diff(diff1, d))\n",
    "\n",
    "# 打印结果\n",
    "diff2"
   ]
  },
  {
   "cell_type": "code",
   "execution_count": 11,
   "metadata": {},
   "outputs": [
    {
     "name": "stdout",
     "output_type": "stream",
     "text": [
      "-2*log(d/dhat) - 3 + 2*dhat/d + dhat**2/d**2\n"
     ]
    }
   ],
   "source": [
    "print(diff2)"
   ]
  }
 ],
 "metadata": {
  "kernelspec": {
   "display_name": "playground",
   "language": "python",
   "name": "python3"
  },
  "language_info": {
   "codemirror_mode": {
    "name": "ipython",
    "version": 3
   },
   "file_extension": ".py",
   "mimetype": "text/x-python",
   "name": "python",
   "nbconvert_exporter": "python",
   "pygments_lexer": "ipython3",
   "version": "3.10.13"
  }
 },
 "nbformat": 4,
 "nbformat_minor": 2
}
